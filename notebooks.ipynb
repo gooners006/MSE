{
 "cells": [
  {
   "cell_type": "code",
   "execution_count": 13,
   "metadata": {},
   "outputs": [],
   "source": [
    "import os\n",
    "import pandas as pd\n",
    "\n",
    "path_Data = \"./Stock Market\"\n",
    "\n",
    "AAPL = pd.read_csv(path_Data + \"/AAPL.csv\")\n",
    "GOOG = pd.read_csv(path_Data + \"/GOOG.csv\")\n",
    "MSFT = pd.read_csv(path_Data + \"/MSFT.csv\")"
   ]
  },
  {
   "cell_type": "code",
   "execution_count": 14,
   "metadata": {},
   "outputs": [
    {
     "name": "stdout",
     "output_type": "stream",
     "text": [
      "         Date       High        Low       Open      Close     Volume  \\\n",
      "0  12/30/2019  73.172501  71.305000  72.364998  72.879997  144114400   \n",
      "1  12/31/2019  73.419998  72.379997  72.482498  73.412498  100805600   \n",
      "2    1/2/2020  75.150002  73.797501  74.059998  75.087502  135480400   \n",
      "3    1/3/2020  75.144997  74.125000  74.287498  74.357498  146322800   \n",
      "4    1/6/2020  74.989998  73.187500  73.447502  74.949997  118387200   \n",
      "\n",
      "   Adj Close  \n",
      "0  72.255997  \n",
      "1  72.783936  \n",
      "2  74.444603  \n",
      "3  73.720840  \n",
      "4  74.308266  \n"
     ]
    }
   ],
   "source": [
    "print(AAPL.head())"
   ]
  },
  {
   "cell_type": "code",
   "execution_count": 15,
   "metadata": {},
   "outputs": [
    {
     "data": {
      "text/html": [
       "<div>\n",
       "<style scoped>\n",
       "    .dataframe tbody tr th:only-of-type {\n",
       "        vertical-align: middle;\n",
       "    }\n",
       "\n",
       "    .dataframe tbody tr th {\n",
       "        vertical-align: top;\n",
       "    }\n",
       "\n",
       "    .dataframe thead th {\n",
       "        text-align: right;\n",
       "    }\n",
       "</style>\n",
       "<table border=\"1\" class=\"dataframe\">\n",
       "  <thead>\n",
       "    <tr style=\"text-align: right;\">\n",
       "      <th></th>\n",
       "      <th>Date</th>\n",
       "      <th>High</th>\n",
       "      <th>Low</th>\n",
       "      <th>Open</th>\n",
       "      <th>Close</th>\n",
       "      <th>Volume</th>\n",
       "      <th>Adj Close</th>\n",
       "    </tr>\n",
       "  </thead>\n",
       "  <tbody>\n",
       "    <tr>\n",
       "      <th>0</th>\n",
       "      <td>12/30/2019</td>\n",
       "      <td>73.172501</td>\n",
       "      <td>71.305000</td>\n",
       "      <td>72.364998</td>\n",
       "      <td>72.879997</td>\n",
       "      <td>144114400</td>\n",
       "      <td>72.255997</td>\n",
       "    </tr>\n",
       "    <tr>\n",
       "      <th>1</th>\n",
       "      <td>12/31/2019</td>\n",
       "      <td>73.419998</td>\n",
       "      <td>72.379997</td>\n",
       "      <td>72.482498</td>\n",
       "      <td>73.412498</td>\n",
       "      <td>100805600</td>\n",
       "      <td>72.783936</td>\n",
       "    </tr>\n",
       "    <tr>\n",
       "      <th>2</th>\n",
       "      <td>1/2/2020</td>\n",
       "      <td>75.150002</td>\n",
       "      <td>73.797501</td>\n",
       "      <td>74.059998</td>\n",
       "      <td>75.087502</td>\n",
       "      <td>135480400</td>\n",
       "      <td>74.444603</td>\n",
       "    </tr>\n",
       "    <tr>\n",
       "      <th>3</th>\n",
       "      <td>1/3/2020</td>\n",
       "      <td>75.144997</td>\n",
       "      <td>74.125000</td>\n",
       "      <td>74.287498</td>\n",
       "      <td>74.357498</td>\n",
       "      <td>146322800</td>\n",
       "      <td>73.720840</td>\n",
       "    </tr>\n",
       "    <tr>\n",
       "      <th>4</th>\n",
       "      <td>1/6/2020</td>\n",
       "      <td>74.989998</td>\n",
       "      <td>73.187500</td>\n",
       "      <td>73.447502</td>\n",
       "      <td>74.949997</td>\n",
       "      <td>118387200</td>\n",
       "      <td>74.308266</td>\n",
       "    </tr>\n",
       "    <tr>\n",
       "      <th>...</th>\n",
       "      <td>...</td>\n",
       "      <td>...</td>\n",
       "      <td>...</td>\n",
       "      <td>...</td>\n",
       "      <td>...</td>\n",
       "      <td>...</td>\n",
       "      <td>...</td>\n",
       "    </tr>\n",
       "    <tr>\n",
       "      <th>247</th>\n",
       "      <td>12/21/2020</td>\n",
       "      <td>128.309998</td>\n",
       "      <td>123.449997</td>\n",
       "      <td>125.019997</td>\n",
       "      <td>128.229996</td>\n",
       "      <td>121251600</td>\n",
       "      <td>128.229996</td>\n",
       "    </tr>\n",
       "    <tr>\n",
       "      <th>248</th>\n",
       "      <td>12/22/2020</td>\n",
       "      <td>134.410004</td>\n",
       "      <td>129.649994</td>\n",
       "      <td>131.610001</td>\n",
       "      <td>131.880005</td>\n",
       "      <td>168904800</td>\n",
       "      <td>131.880005</td>\n",
       "    </tr>\n",
       "    <tr>\n",
       "      <th>249</th>\n",
       "      <td>12/23/2020</td>\n",
       "      <td>132.429993</td>\n",
       "      <td>130.779999</td>\n",
       "      <td>132.160004</td>\n",
       "      <td>130.960007</td>\n",
       "      <td>88223700</td>\n",
       "      <td>130.960007</td>\n",
       "    </tr>\n",
       "    <tr>\n",
       "      <th>250</th>\n",
       "      <td>12/24/2020</td>\n",
       "      <td>133.460007</td>\n",
       "      <td>131.100006</td>\n",
       "      <td>131.320007</td>\n",
       "      <td>131.970001</td>\n",
       "      <td>54930100</td>\n",
       "      <td>131.970001</td>\n",
       "    </tr>\n",
       "    <tr>\n",
       "      <th>251</th>\n",
       "      <td>12/28/2020</td>\n",
       "      <td>137.339996</td>\n",
       "      <td>133.509995</td>\n",
       "      <td>133.990005</td>\n",
       "      <td>136.690002</td>\n",
       "      <td>124182900</td>\n",
       "      <td>136.690002</td>\n",
       "    </tr>\n",
       "  </tbody>\n",
       "</table>\n",
       "<p>252 rows × 7 columns</p>\n",
       "</div>"
      ],
      "text/plain": [
       "           Date        High         Low        Open       Close     Volume  \\\n",
       "0    12/30/2019   73.172501   71.305000   72.364998   72.879997  144114400   \n",
       "1    12/31/2019   73.419998   72.379997   72.482498   73.412498  100805600   \n",
       "2      1/2/2020   75.150002   73.797501   74.059998   75.087502  135480400   \n",
       "3      1/3/2020   75.144997   74.125000   74.287498   74.357498  146322800   \n",
       "4      1/6/2020   74.989998   73.187500   73.447502   74.949997  118387200   \n",
       "..          ...         ...         ...         ...         ...        ...   \n",
       "247  12/21/2020  128.309998  123.449997  125.019997  128.229996  121251600   \n",
       "248  12/22/2020  134.410004  129.649994  131.610001  131.880005  168904800   \n",
       "249  12/23/2020  132.429993  130.779999  132.160004  130.960007   88223700   \n",
       "250  12/24/2020  133.460007  131.100006  131.320007  131.970001   54930100   \n",
       "251  12/28/2020  137.339996  133.509995  133.990005  136.690002  124182900   \n",
       "\n",
       "      Adj Close  \n",
       "0     72.255997  \n",
       "1     72.783936  \n",
       "2     74.444603  \n",
       "3     73.720840  \n",
       "4     74.308266  \n",
       "..          ...  \n",
       "247  128.229996  \n",
       "248  131.880005  \n",
       "249  130.960007  \n",
       "250  131.970001  \n",
       "251  136.690002  \n",
       "\n",
       "[252 rows x 7 columns]"
      ]
     },
     "metadata": {},
     "output_type": "display_data"
    }
   ],
   "source": [
    "display(AAPL)"
   ]
  },
  {
   "cell_type": "code",
   "execution_count": 16,
   "metadata": {},
   "outputs": [
    {
     "data": {
      "text/html": [
       "<div>\n",
       "<style scoped>\n",
       "    .dataframe tbody tr th:only-of-type {\n",
       "        vertical-align: middle;\n",
       "    }\n",
       "\n",
       "    .dataframe tbody tr th {\n",
       "        vertical-align: top;\n",
       "    }\n",
       "\n",
       "    .dataframe thead th {\n",
       "        text-align: right;\n",
       "    }\n",
       "</style>\n",
       "<table border=\"1\" class=\"dataframe\">\n",
       "  <thead>\n",
       "    <tr style=\"text-align: right;\">\n",
       "      <th></th>\n",
       "      <th>Date</th>\n",
       "      <th>High</th>\n",
       "      <th>Low</th>\n",
       "      <th>Open</th>\n",
       "      <th>Close</th>\n",
       "      <th>Volume</th>\n",
       "      <th>Adj Close</th>\n",
       "    </tr>\n",
       "  </thead>\n",
       "  <tbody>\n",
       "    <tr>\n",
       "      <th>0</th>\n",
       "      <td>12/30/2019</td>\n",
       "      <td>73.172501</td>\n",
       "      <td>71.305000</td>\n",
       "      <td>72.364998</td>\n",
       "      <td>72.879997</td>\n",
       "      <td>144114400</td>\n",
       "      <td>72.256</td>\n",
       "    </tr>\n",
       "    <tr>\n",
       "      <th>1</th>\n",
       "      <td>12/31/2019</td>\n",
       "      <td>73.419998</td>\n",
       "      <td>72.379997</td>\n",
       "      <td>72.482498</td>\n",
       "      <td>73.412498</td>\n",
       "      <td>100805600</td>\n",
       "      <td>72.784</td>\n",
       "    </tr>\n",
       "    <tr>\n",
       "      <th>2</th>\n",
       "      <td>1/2/2020</td>\n",
       "      <td>75.150002</td>\n",
       "      <td>73.797501</td>\n",
       "      <td>74.059998</td>\n",
       "      <td>75.087502</td>\n",
       "      <td>135480400</td>\n",
       "      <td>74.445</td>\n",
       "    </tr>\n",
       "    <tr>\n",
       "      <th>3</th>\n",
       "      <td>1/3/2020</td>\n",
       "      <td>75.144997</td>\n",
       "      <td>74.125000</td>\n",
       "      <td>74.287498</td>\n",
       "      <td>74.357498</td>\n",
       "      <td>146322800</td>\n",
       "      <td>73.721</td>\n",
       "    </tr>\n",
       "    <tr>\n",
       "      <th>4</th>\n",
       "      <td>1/6/2020</td>\n",
       "      <td>74.989998</td>\n",
       "      <td>73.187500</td>\n",
       "      <td>73.447502</td>\n",
       "      <td>74.949997</td>\n",
       "      <td>118387200</td>\n",
       "      <td>74.308</td>\n",
       "    </tr>\n",
       "  </tbody>\n",
       "</table>\n",
       "</div>"
      ],
      "text/plain": [
       "         Date       High        Low       Open      Close     Volume  \\\n",
       "0  12/30/2019  73.172501  71.305000  72.364998  72.879997  144114400   \n",
       "1  12/31/2019  73.419998  72.379997  72.482498  73.412498  100805600   \n",
       "2    1/2/2020  75.150002  73.797501  74.059998  75.087502  135480400   \n",
       "3    1/3/2020  75.144997  74.125000  74.287498  74.357498  146322800   \n",
       "4    1/6/2020  74.989998  73.187500  73.447502  74.949997  118387200   \n",
       "\n",
       "   Adj Close  \n",
       "0     72.256  \n",
       "1     72.784  \n",
       "2     74.445  \n",
       "3     73.721  \n",
       "4     74.308  "
      ]
     },
     "execution_count": 16,
     "metadata": {},
     "output_type": "execute_result"
    }
   ],
   "source": [
    "AAPL[\"Adj Close\"] = AAPL[\"Adj Close\"].round(decimals=3)\n",
    "AAPL.head()"
   ]
  },
  {
   "cell_type": "code",
   "execution_count": 17,
   "metadata": {},
   "outputs": [
    {
     "data": {
      "application/vnd.plotly.v1+json": {
       "config": {
        "plotlyServerURL": "https://plot.ly"
       },
       "data": [
        {
         "close": {
          "bdata": "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",
          "dtype": "f8"
         },
         "high": {
          "bdata": "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",
          "dtype": "f8"
         },
         "low": {
          "bdata": "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",
          "dtype": "f8"
         },
         "name": "Candlestick",
         "open": {
          "bdata": "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",
          "dtype": "f8"
         },
         "type": "candlestick",
         "x": {
          "bdata": "AAABAAIAAwAEAAUABgAHAAgACQAKAAsADAANAA4ADwAQABEAEgATABQAFQAWABcAGAAZABoAGwAcAB0AHgAfACAAIQAiACMAJAAlACYAJwAoACkAKgArACwALQAuAC8AMAAxADIAMwA0ADUANgA3ADgAOQA6ADsAPAA9AD4APwBAAEEAQgBDAEQARQBGAEcASABJAEoASwBMAE0ATgBPAFAAUQBSAFMAVABVAFYAVwBYAFkAWgBbAFwAXQBeAF8AYABhAGIAYwBkAGUAZgBnAGgAaQBqAGsAbABtAG4AbwBwAHEAcgBzAHQAdQB2AHcAeAB5AHoAewB8AH0AfgB/AIAAgQCCAIMAhACFAIYAhwCIAIkAigCLAIwAjQCOAI8AkACRAJIAkwCUAJUAlgCXAJgAmQCaAJsAnACdAJ4AnwCgAKEAogCjAKQApQCmAKcAqACpAKoAqwCsAK0ArgCvALAAsQCyALMAtAC1ALYAtwC4ALkAugC7ALwAvQC+AL8AwADBAMIAwwDEAMUAxgDHAMgAyQDKAMsAzADNAM4AzwDQANEA0gDTANQA1QDWANcA2ADZANoA2wDcAN0A3gDfAOAA4QDiAOMA5ADlAOYA5wDoAOkA6gDrAOwA7QDuAO8A8ADxAPIA8wD0APUA9gD3APgA+QD6APsA",
          "dtype": "i2"
         },
         "xaxis": "x",
         "yaxis": "y"
        },
        {
         "name": "Volume",
         "type": "bar",
         "x": [
          "12/30/2019",
          "12/31/2019",
          "1/2/2020",
          "1/3/2020",
          "1/6/2020",
          "1/7/2020",
          "1/8/2020",
          "1/9/2020",
          "1/10/2020",
          "1/13/2020",
          "1/14/2020",
          "1/15/2020",
          "1/16/2020",
          "1/17/2020",
          "1/21/2020",
          "1/22/2020",
          "1/23/2020",
          "1/24/2020",
          "1/27/2020",
          "1/28/2020",
          "1/29/2020",
          "1/30/2020",
          "1/31/2020",
          "2/3/2020",
          "2/4/2020",
          "2/5/2020",
          "2/6/2020",
          "2/7/2020",
          "2/10/2020",
          "2/11/2020",
          "2/12/2020",
          "2/13/2020",
          "2/14/2020",
          "2/18/2020",
          "2/19/2020",
          "2/20/2020",
          "2/21/2020",
          "2/24/2020",
          "2/25/2020",
          "2/26/2020",
          "2/27/2020",
          "2/28/2020",
          "3/2/2020",
          "3/3/2020",
          "3/4/2020",
          "3/5/2020",
          "3/6/2020",
          "3/9/2020",
          "3/10/2020",
          "3/11/2020",
          "3/12/2020",
          "3/13/2020",
          "3/16/2020",
          "3/17/2020",
          "3/18/2020",
          "3/19/2020",
          "3/20/2020",
          "3/23/2020",
          "3/24/2020",
          "3/25/2020",
          "3/26/2020",
          "3/27/2020",
          "3/30/2020",
          "3/31/2020",
          "4/1/2020",
          "4/2/2020",
          "4/3/2020",
          "4/6/2020",
          "4/7/2020",
          "4/8/2020",
          "4/9/2020",
          "4/13/2020",
          "4/14/2020",
          "4/15/2020",
          "4/16/2020",
          "4/17/2020",
          "4/20/2020",
          "4/21/2020",
          "4/22/2020",
          "4/23/2020",
          "4/24/2020",
          "4/27/2020",
          "4/28/2020",
          "4/29/2020",
          "4/30/2020",
          "5/1/2020",
          "5/4/2020",
          "5/5/2020",
          "5/6/2020",
          "5/7/2020",
          "5/8/2020",
          "5/11/2020",
          "5/12/2020",
          "5/13/2020",
          "5/14/2020",
          "5/15/2020",
          "5/18/2020",
          "5/19/2020",
          "5/20/2020",
          "5/21/2020",
          "5/22/2020",
          "5/26/2020",
          "5/27/2020",
          "5/28/2020",
          "5/29/2020",
          "6/1/2020",
          "6/2/2020",
          "6/3/2020",
          "6/4/2020",
          "6/5/2020",
          "6/8/2020",
          "6/9/2020",
          "6/10/2020",
          "6/11/2020",
          "6/12/2020",
          "6/15/2020",
          "6/16/2020",
          "6/17/2020",
          "6/18/2020",
          "6/19/2020",
          "6/22/2020",
          "6/23/2020",
          "6/24/2020",
          "6/25/2020",
          "6/26/2020",
          "6/29/2020",
          "6/30/2020",
          "7/1/2020",
          "7/2/2020",
          "7/6/2020",
          "7/7/2020",
          "7/8/2020",
          "7/9/2020",
          "7/10/2020",
          "7/13/2020",
          "7/14/2020",
          "7/15/2020",
          "7/16/2020",
          "7/17/2020",
          "7/20/2020",
          "7/21/2020",
          "7/22/2020",
          "7/23/2020",
          "7/24/2020",
          "7/27/2020",
          "7/28/2020",
          "7/29/2020",
          "7/30/2020",
          "7/31/2020",
          "8/3/2020",
          "8/4/2020",
          "8/5/2020",
          "8/6/2020",
          "8/7/2020",
          "8/10/2020",
          "8/11/2020",
          "8/12/2020",
          "8/13/2020",
          "8/14/2020",
          "8/17/2020",
          "8/18/2020",
          "8/19/2020",
          "8/20/2020",
          "8/21/2020",
          "8/24/2020",
          "8/25/2020",
          "8/26/2020",
          "8/27/2020",
          "8/28/2020",
          "8/31/2020",
          "9/1/2020",
          "9/2/2020",
          "9/3/2020",
          "9/4/2020",
          "9/8/2020",
          "9/9/2020",
          "9/10/2020",
          "9/11/2020",
          "9/14/2020",
          "9/15/2020",
          "9/16/2020",
          "9/17/2020",
          "9/18/2020",
          "9/21/2020",
          "9/22/2020",
          "9/23/2020",
          "9/24/2020",
          "9/25/2020",
          "9/28/2020",
          "9/29/2020",
          "9/30/2020",
          "10/1/2020",
          "10/2/2020",
          "10/5/2020",
          "10/6/2020",
          "10/7/2020",
          "10/8/2020",
          "10/9/2020",
          "10/12/2020",
          "10/13/2020",
          "10/14/2020",
          "10/15/2020",
          "10/16/2020",
          "10/19/2020",
          "10/20/2020",
          "10/21/2020",
          "10/22/2020",
          "10/23/2020",
          "10/26/2020",
          "10/27/2020",
          "10/28/2020",
          "10/29/2020",
          "10/30/2020",
          "11/2/2020",
          "11/3/2020",
          "11/4/2020",
          "11/5/2020",
          "11/6/2020",
          "11/9/2020",
          "11/10/2020",
          "11/11/2020",
          "11/12/2020",
          "11/13/2020",
          "11/16/2020",
          "11/17/2020",
          "11/18/2020",
          "11/19/2020",
          "11/20/2020",
          "11/23/2020",
          "11/24/2020",
          "11/25/2020",
          "11/27/2020",
          "11/30/2020",
          "12/1/2020",
          "12/2/2020",
          "12/3/2020",
          "12/4/2020",
          "12/7/2020",
          "12/8/2020",
          "12/9/2020",
          "12/10/2020",
          "12/11/2020",
          "12/14/2020",
          "12/15/2020",
          "12/16/2020",
          "12/17/2020",
          "12/18/2020",
          "12/21/2020",
          "12/22/2020",
          "12/23/2020",
          "12/24/2020",
          "12/28/2020"
         ],
         "xaxis": "x2",
         "y": {
          "bdata": "4AKXCOArAgZQRBMIcLW4CAByDgdAQX0GYF7fB/ClIwrAEWIIYG4+B2A6pwkQaEQHEJp8BlDpNghAVZsG0NYRBsAdOgaA/LsIIAKnCZB+qwlQZeMMoPKNBzB65QtAz14K0JkkCDAnFQfAqkgGILcDB8CHhAYAQp8FYGPHBtC7pQXAb8YEAHEXCQAVmgXwg/4FUNa4BwBuPg3AzL8NkBPOC6ANHBPAvnEZ0E5ZFJDPChOgZRANQCIuCyAvew3gYBcREC4BEdAgPA8QaPEY4OsYFjDLNxPAs1ATgDPlETA2NBAQWvEXoHASFMBgIxFQmRgSoIsGD+AZLAzQHQMKEAO+CyDhgAqw8+MJwM+9B/CIBwwg0BcM4CIRCjCzqQnQP88HcGKfC+BB0QdQil0JUHTUDODfvwdwtskKsCb6BkCEcAcAX4oHcJ36BsAOrQYgvS4IwFXpCmCFVw4AFvYHIIHOCKDWewhgC94GAGn9ByD3sggQhawJQEH1CzAReQlwRuoJcJ4RCEBFEAagbaUGIOgeBsA34ARQUHsHMGi7BuD59QcwuCcJoMbQBLBSOQXAaDoG0BA4BWBGLggAkrMFkOnNCNDm7gnAHwUMUPztC+ANRgiQD3cCIF2zASxXcQFY5fADtK4EAjRPKQOYzN4COJsMAhj+DgO4HfEB4KJbCDC3mQYAI8wGcIoSB9B1swagrvoGMCh9BzA3YQWwVWwLkBYxCrCdIQnAR5cGsKh+BbAkYgUwgy0GgA5OBXAMvgtQkg0LMJQ5B4AzLQZwUGIFUN9sCSDtTxagA14S8NxQCkBzRQeA0RAMoO/NC5AFqQzAKTML4B3kCdCYhQwQU94JgF0gB0DXSwbQu6wIQHOQB5BOJhTAlp4UsCqbDECGtwmQikUJsAEvCyzzcw1UghYJ2JLtC3CoWg/gLtMTyF/KDdTliwpgSd0KjLXHClSFWgjQaQEL2DY4CXg7nAqE3xwRCFuqCyg06QrsyPsIRI//CdiI8AjQtjQIuHPsBQANgQhQ2+sGQCGgCNgmVQZYRKAJaMzFBdDC+QQUnf0F8JFRDoTYog8cBwEJYIS1BgjF4AZEzzAHFI5qB5B3XAWgNhQGOPXrBMy0qgZACIAFCFGUCDDBtQhYVFcL1MxSB9A3agZsTj0InIOIByx90gZktzUJ6BE6CFh8sQa8ISYGTNfcBJhXbwUYSW0ENJWMBOjfagTMHGMEBIGgBxiVyQYASY8E5HPIApj+GAqQq6MHqBhOBTDztASwKKoEwB4rBVyp5gQwH9wGyLnYBJiYLgV0QrgEzFxkCViL2gX40J8FPPN5CxAnOgdgSBEK1C9CBbQqRgN04WYH",
          "dtype": "i4"
         },
         "yaxis": "y2"
        }
       ],
       "layout": {
        "bargap": 0.1,
        "template": {
         "data": {
          "bar": [
           {
            "error_x": {
             "color": "#2a3f5f"
            },
            "error_y": {
             "color": "#2a3f5f"
            },
            "marker": {
             "line": {
              "color": "#E5ECF6",
              "width": 0.5
             },
             "pattern": {
              "fillmode": "overlay",
              "size": 10,
              "solidity": 0.2
             }
            },
            "type": "bar"
           }
          ],
          "barpolar": [
           {
            "marker": {
             "line": {
              "color": "#E5ECF6",
              "width": 0.5
             },
             "pattern": {
              "fillmode": "overlay",
              "size": 10,
              "solidity": 0.2
             }
            },
            "type": "barpolar"
           }
          ],
          "carpet": [
           {
            "aaxis": {
             "endlinecolor": "#2a3f5f",
             "gridcolor": "white",
             "linecolor": "white",
             "minorgridcolor": "white",
             "startlinecolor": "#2a3f5f"
            },
            "baxis": {
             "endlinecolor": "#2a3f5f",
             "gridcolor": "white",
             "linecolor": "white",
             "minorgridcolor": "white",
             "startlinecolor": "#2a3f5f"
            },
            "type": "carpet"
           }
          ],
          "choropleth": [
           {
            "colorbar": {
             "outlinewidth": 0,
             "ticks": ""
            },
            "type": "choropleth"
           }
          ],
          "contour": [
           {
            "colorbar": {
             "outlinewidth": 0,
             "ticks": ""
            },
            "colorscale": [
             [
              0,
              "#0d0887"
             ],
             [
              0.1111111111111111,
              "#46039f"
             ],
             [
              0.2222222222222222,
              "#7201a8"
             ],
             [
              0.3333333333333333,
              "#9c179e"
             ],
             [
              0.4444444444444444,
              "#bd3786"
             ],
             [
              0.5555555555555556,
              "#d8576b"
             ],
             [
              0.6666666666666666,
              "#ed7953"
             ],
             [
              0.7777777777777778,
              "#fb9f3a"
             ],
             [
              0.8888888888888888,
              "#fdca26"
             ],
             [
              1,
              "#f0f921"
             ]
            ],
            "type": "contour"
           }
          ],
          "contourcarpet": [
           {
            "colorbar": {
             "outlinewidth": 0,
             "ticks": ""
            },
            "type": "contourcarpet"
           }
          ],
          "heatmap": [
           {
            "colorbar": {
             "outlinewidth": 0,
             "ticks": ""
            },
            "colorscale": [
             [
              0,
              "#0d0887"
             ],
             [
              0.1111111111111111,
              "#46039f"
             ],
             [
              0.2222222222222222,
              "#7201a8"
             ],
             [
              0.3333333333333333,
              "#9c179e"
             ],
             [
              0.4444444444444444,
              "#bd3786"
             ],
             [
              0.5555555555555556,
              "#d8576b"
             ],
             [
              0.6666666666666666,
              "#ed7953"
             ],
             [
              0.7777777777777778,
              "#fb9f3a"
             ],
             [
              0.8888888888888888,
              "#fdca26"
             ],
             [
              1,
              "#f0f921"
             ]
            ],
            "type": "heatmap"
           }
          ],
          "histogram": [
           {
            "marker": {
             "pattern": {
              "fillmode": "overlay",
              "size": 10,
              "solidity": 0.2
             }
            },
            "type": "histogram"
           }
          ],
          "histogram2d": [
           {
            "colorbar": {
             "outlinewidth": 0,
             "ticks": ""
            },
            "colorscale": [
             [
              0,
              "#0d0887"
             ],
             [
              0.1111111111111111,
              "#46039f"
             ],
             [
              0.2222222222222222,
              "#7201a8"
             ],
             [
              0.3333333333333333,
              "#9c179e"
             ],
             [
              0.4444444444444444,
              "#bd3786"
             ],
             [
              0.5555555555555556,
              "#d8576b"
             ],
             [
              0.6666666666666666,
              "#ed7953"
             ],
             [
              0.7777777777777778,
              "#fb9f3a"
             ],
             [
              0.8888888888888888,
              "#fdca26"
             ],
             [
              1,
              "#f0f921"
             ]
            ],
            "type": "histogram2d"
           }
          ],
          "histogram2dcontour": [
           {
            "colorbar": {
             "outlinewidth": 0,
             "ticks": ""
            },
            "colorscale": [
             [
              0,
              "#0d0887"
             ],
             [
              0.1111111111111111,
              "#46039f"
             ],
             [
              0.2222222222222222,
              "#7201a8"
             ],
             [
              0.3333333333333333,
              "#9c179e"
             ],
             [
              0.4444444444444444,
              "#bd3786"
             ],
             [
              0.5555555555555556,
              "#d8576b"
             ],
             [
              0.6666666666666666,
              "#ed7953"
             ],
             [
              0.7777777777777778,
              "#fb9f3a"
             ],
             [
              0.8888888888888888,
              "#fdca26"
             ],
             [
              1,
              "#f0f921"
             ]
            ],
            "type": "histogram2dcontour"
           }
          ],
          "mesh3d": [
           {
            "colorbar": {
             "outlinewidth": 0,
             "ticks": ""
            },
            "type": "mesh3d"
           }
          ],
          "parcoords": [
           {
            "line": {
             "colorbar": {
              "outlinewidth": 0,
              "ticks": ""
             }
            },
            "type": "parcoords"
           }
          ],
          "pie": [
           {
            "automargin": true,
            "type": "pie"
           }
          ],
          "scatter": [
           {
            "fillpattern": {
             "fillmode": "overlay",
             "size": 10,
             "solidity": 0.2
            },
            "type": "scatter"
           }
          ],
          "scatter3d": [
           {
            "line": {
             "colorbar": {
              "outlinewidth": 0,
              "ticks": ""
             }
            },
            "marker": {
             "colorbar": {
              "outlinewidth": 0,
              "ticks": ""
             }
            },
            "type": "scatter3d"
           }
          ],
          "scattercarpet": [
           {
            "marker": {
             "colorbar": {
              "outlinewidth": 0,
              "ticks": ""
             }
            },
            "type": "scattercarpet"
           }
          ],
          "scattergeo": [
           {
            "marker": {
             "colorbar": {
              "outlinewidth": 0,
              "ticks": ""
             }
            },
            "type": "scattergeo"
           }
          ],
          "scattergl": [
           {
            "marker": {
             "colorbar": {
              "outlinewidth": 0,
              "ticks": ""
             }
            },
            "type": "scattergl"
           }
          ],
          "scattermap": [
           {
            "marker": {
             "colorbar": {
              "outlinewidth": 0,
              "ticks": ""
             }
            },
            "type": "scattermap"
           }
          ],
          "scattermapbox": [
           {
            "marker": {
             "colorbar": {
              "outlinewidth": 0,
              "ticks": ""
             }
            },
            "type": "scattermapbox"
           }
          ],
          "scatterpolar": [
           {
            "marker": {
             "colorbar": {
              "outlinewidth": 0,
              "ticks": ""
             }
            },
            "type": "scatterpolar"
           }
          ],
          "scatterpolargl": [
           {
            "marker": {
             "colorbar": {
              "outlinewidth": 0,
              "ticks": ""
             }
            },
            "type": "scatterpolargl"
           }
          ],
          "scatterternary": [
           {
            "marker": {
             "colorbar": {
              "outlinewidth": 0,
              "ticks": ""
             }
            },
            "type": "scatterternary"
           }
          ],
          "surface": [
           {
            "colorbar": {
             "outlinewidth": 0,
             "ticks": ""
            },
            "colorscale": [
             [
              0,
              "#0d0887"
             ],
             [
              0.1111111111111111,
              "#46039f"
             ],
             [
              0.2222222222222222,
              "#7201a8"
             ],
             [
              0.3333333333333333,
              "#9c179e"
             ],
             [
              0.4444444444444444,
              "#bd3786"
             ],
             [
              0.5555555555555556,
              "#d8576b"
             ],
             [
              0.6666666666666666,
              "#ed7953"
             ],
             [
              0.7777777777777778,
              "#fb9f3a"
             ],
             [
              0.8888888888888888,
              "#fdca26"
             ],
             [
              1,
              "#f0f921"
             ]
            ],
            "type": "surface"
           }
          ],
          "table": [
           {
            "cells": {
             "fill": {
              "color": "#EBF0F8"
             },
             "line": {
              "color": "white"
             }
            },
            "header": {
             "fill": {
              "color": "#C8D4E3"
             },
             "line": {
              "color": "white"
             }
            },
            "type": "table"
           }
          ]
         },
         "layout": {
          "annotationdefaults": {
           "arrowcolor": "#2a3f5f",
           "arrowhead": 0,
           "arrowwidth": 1
          },
          "autotypenumbers": "strict",
          "coloraxis": {
           "colorbar": {
            "outlinewidth": 0,
            "ticks": ""
           }
          },
          "colorscale": {
           "diverging": [
            [
             0,
             "#8e0152"
            ],
            [
             0.1,
             "#c51b7d"
            ],
            [
             0.2,
             "#de77ae"
            ],
            [
             0.3,
             "#f1b6da"
            ],
            [
             0.4,
             "#fde0ef"
            ],
            [
             0.5,
             "#f7f7f7"
            ],
            [
             0.6,
             "#e6f5d0"
            ],
            [
             0.7,
             "#b8e186"
            ],
            [
             0.8,
             "#7fbc41"
            ],
            [
             0.9,
             "#4d9221"
            ],
            [
             1,
             "#276419"
            ]
           ],
           "sequential": [
            [
             0,
             "#0d0887"
            ],
            [
             0.1111111111111111,
             "#46039f"
            ],
            [
             0.2222222222222222,
             "#7201a8"
            ],
            [
             0.3333333333333333,
             "#9c179e"
            ],
            [
             0.4444444444444444,
             "#bd3786"
            ],
            [
             0.5555555555555556,
             "#d8576b"
            ],
            [
             0.6666666666666666,
             "#ed7953"
            ],
            [
             0.7777777777777778,
             "#fb9f3a"
            ],
            [
             0.8888888888888888,
             "#fdca26"
            ],
            [
             1,
             "#f0f921"
            ]
           ],
           "sequentialminus": [
            [
             0,
             "#0d0887"
            ],
            [
             0.1111111111111111,
             "#46039f"
            ],
            [
             0.2222222222222222,
             "#7201a8"
            ],
            [
             0.3333333333333333,
             "#9c179e"
            ],
            [
             0.4444444444444444,
             "#bd3786"
            ],
            [
             0.5555555555555556,
             "#d8576b"
            ],
            [
             0.6666666666666666,
             "#ed7953"
            ],
            [
             0.7777777777777778,
             "#fb9f3a"
            ],
            [
             0.8888888888888888,
             "#fdca26"
            ],
            [
             1,
             "#f0f921"
            ]
           ]
          },
          "colorway": [
           "#636efa",
           "#EF553B",
           "#00cc96",
           "#ab63fa",
           "#FFA15A",
           "#19d3f3",
           "#FF6692",
           "#B6E880",
           "#FF97FF",
           "#FECB52"
          ],
          "font": {
           "color": "#2a3f5f"
          },
          "geo": {
           "bgcolor": "white",
           "lakecolor": "white",
           "landcolor": "#E5ECF6",
           "showlakes": true,
           "showland": true,
           "subunitcolor": "white"
          },
          "hoverlabel": {
           "align": "left"
          },
          "hovermode": "closest",
          "mapbox": {
           "style": "light"
          },
          "paper_bgcolor": "white",
          "plot_bgcolor": "#E5ECF6",
          "polar": {
           "angularaxis": {
            "gridcolor": "white",
            "linecolor": "white",
            "ticks": ""
           },
           "bgcolor": "#E5ECF6",
           "radialaxis": {
            "gridcolor": "white",
            "linecolor": "white",
            "ticks": ""
           }
          },
          "scene": {
           "xaxis": {
            "backgroundcolor": "#E5ECF6",
            "gridcolor": "white",
            "gridwidth": 2,
            "linecolor": "white",
            "showbackground": true,
            "ticks": "",
            "zerolinecolor": "white"
           },
           "yaxis": {
            "backgroundcolor": "#E5ECF6",
            "gridcolor": "white",
            "gridwidth": 2,
            "linecolor": "white",
            "showbackground": true,
            "ticks": "",
            "zerolinecolor": "white"
           },
           "zaxis": {
            "backgroundcolor": "#E5ECF6",
            "gridcolor": "white",
            "gridwidth": 2,
            "linecolor": "white",
            "showbackground": true,
            "ticks": "",
            "zerolinecolor": "white"
           }
          },
          "shapedefaults": {
           "line": {
            "color": "#2a3f5f"
           }
          },
          "ternary": {
           "aaxis": {
            "gridcolor": "white",
            "linecolor": "white",
            "ticks": ""
           },
           "baxis": {
            "gridcolor": "white",
            "linecolor": "white",
            "ticks": ""
           },
           "bgcolor": "#E5ECF6",
           "caxis": {
            "gridcolor": "white",
            "linecolor": "white",
            "ticks": ""
           }
          },
          "title": {
           "x": 0.05
          },
          "xaxis": {
           "automargin": true,
           "gridcolor": "white",
           "linecolor": "white",
           "ticks": "",
           "title": {
            "standoff": 15
           },
           "zerolinecolor": "white",
           "zerolinewidth": 2
          },
          "yaxis": {
           "automargin": true,
           "gridcolor": "white",
           "linecolor": "white",
           "ticks": "",
           "title": {
            "standoff": 15
           },
           "zerolinecolor": "white",
           "zerolinewidth": 2
          }
         }
        },
        "title": {
         "text": "CandleStick Chart"
        },
        "xaxis": {
         "anchor": "y",
         "domain": [
          0,
          1
         ],
         "matches": "x2",
         "rangeslider": {
          "visible": false
         },
         "showticklabels": false
        },
        "xaxis2": {
         "anchor": "y2",
         "domain": [
          0,
          1
         ]
        },
        "yaxis": {
         "anchor": "x",
         "domain": [
          0.51,
          1
         ],
         "title": {
          "text": "AAPL"
         }
        },
        "yaxis2": {
         "anchor": "x2",
         "domain": [
          0,
          0.49
         ]
        }
       }
      }
     },
     "metadata": {},
     "output_type": "display_data"
    }
   ],
   "source": [
    "import plotly.subplots as ms\n",
    "import plotly.graph_objects as go\n",
    "\n",
    "fig = ms.make_subplots(rows=2, cols=1, shared_xaxes=True, vertical_spacing=0.02)\n",
    "\n",
    "fig.add_trace(\n",
    "    go.Candlestick(\n",
    "        x=AAPL.index,\n",
    "        open=AAPL[\"Open\"],\n",
    "        high=AAPL[\"High\"],\n",
    "        low=AAPL[\"Low\"],\n",
    "        close=AAPL[\"Close\"],\n",
    "        name=\"Candlestick\",\n",
    "    ),\n",
    "    row=1,\n",
    "    col=1,\n",
    ")\n",
    "\n",
    "# Thêm biểu đồ cột thể hiện khối lượng giao dịch\n",
    "fig.add_trace(go.Bar(x=AAPL.Date, y=AAPL[\"Volume\"], name=\"Volume\"), row=2, col=1)\n",
    "\n",
    "# Cập nhật bố cục của biểu đồ, bao gồm tiêu đề, tiêu đề trục y, ẩn thanh trượt x, khoảng cách giữa các cột, và đặt phạm vi thời gian cho trục x.\n",
    "fig.update_layout(\n",
    "    title=\"CandleStick Chart\",\n",
    "    yaxis_title=\"AAPL\",\n",
    "    xaxis_rangeslider_visible=False,\n",
    "    bargap=0.1,\n",
    "    # xaxis_range=[\"12/30/2019\", \"12/24/2020\"],\n",
    ")"
   ]
  },
  {
   "cell_type": "code",
   "execution_count": 18,
   "metadata": {},
   "outputs": [
    {
     "name": "stdout",
     "output_type": "stream",
     "text": [
      "mean_value:94.4041626984127, median_value:90.793, std_value:21.67056920384977\n"
     ]
    }
   ],
   "source": [
    "import statistics\n",
    "\n",
    "adjValues = AAPL[\"Adj Close\"].values\n",
    "mean_value = statistics.mean(adjValues)\n",
    "median_value = statistics.median(adjValues)\n",
    "std_value = statistics.stdev(adjValues)\n",
    "print(f\"mean_value:{mean_value}, median_value:{median_value}, std_value:{std_value}\")"
   ]
  },
  {
   "cell_type": "code",
   "execution_count": 19,
   "metadata": {},
   "outputs": [
    {
     "data": {
      "text/plain": [
       "<Axes: >"
      ]
     },
     "execution_count": 19,
     "metadata": {},
     "output_type": "execute_result"
    },
    {
     "data": {
      "image/png": "[encoded data removed]",
      "text/plain": [
       "<Figure size 1200x500 with 1 Axes>"
      ]
     },
     "metadata": {},
     "output_type": "display_data"
    }
   ],
   "source": [
    "import seaborn as sns\n",
    "\n",
    "sns.set_style(\"whitegrid\")\n",
    "\n",
    "AAPL[\"Adj Close\"].plot(legend=True, figsize=(12, 5))"
   ]
  },
  {
   "cell_type": "code",
   "execution_count": 20,
   "metadata": {},
   "outputs": [
    {
     "data": {
      "text/html": [
       "<div>\n",
       "<style scoped>\n",
       "    .dataframe tbody tr th:only-of-type {\n",
       "        vertical-align: middle;\n",
       "    }\n",
       "\n",
       "    .dataframe tbody tr th {\n",
       "        vertical-align: top;\n",
       "    }\n",
       "\n",
       "    .dataframe thead th {\n",
       "        text-align: right;\n",
       "    }\n",
       "</style>\n",
       "<table border=\"1\" class=\"dataframe\">\n",
       "  <thead>\n",
       "    <tr style=\"text-align: right;\">\n",
       "      <th></th>\n",
       "      <th>Date</th>\n",
       "      <th>High</th>\n",
       "      <th>Low</th>\n",
       "      <th>Open</th>\n",
       "      <th>Close</th>\n",
       "      <th>Volume</th>\n",
       "      <th>Adj Close</th>\n",
       "      <th>MA 10 days</th>\n",
       "      <th>MA 20 days</th>\n",
       "      <th>MA 50 days</th>\n",
       "    </tr>\n",
       "  </thead>\n",
       "  <tbody>\n",
       "    <tr>\n",
       "      <th>0</th>\n",
       "      <td>12/30/2019</td>\n",
       "      <td>73.172501</td>\n",
       "      <td>71.305000</td>\n",
       "      <td>72.364998</td>\n",
       "      <td>72.879997</td>\n",
       "      <td>144114400</td>\n",
       "      <td>72.256</td>\n",
       "      <td>NaN</td>\n",
       "      <td>NaN</td>\n",
       "      <td>NaN</td>\n",
       "    </tr>\n",
       "    <tr>\n",
       "      <th>1</th>\n",
       "      <td>12/31/2019</td>\n",
       "      <td>73.419998</td>\n",
       "      <td>72.379997</td>\n",
       "      <td>72.482498</td>\n",
       "      <td>73.412498</td>\n",
       "      <td>100805600</td>\n",
       "      <td>72.784</td>\n",
       "      <td>NaN</td>\n",
       "      <td>NaN</td>\n",
       "      <td>NaN</td>\n",
       "    </tr>\n",
       "    <tr>\n",
       "      <th>2</th>\n",
       "      <td>1/2/2020</td>\n",
       "      <td>75.150002</td>\n",
       "      <td>73.797501</td>\n",
       "      <td>74.059998</td>\n",
       "      <td>75.087502</td>\n",
       "      <td>135480400</td>\n",
       "      <td>74.445</td>\n",
       "      <td>NaN</td>\n",
       "      <td>NaN</td>\n",
       "      <td>NaN</td>\n",
       "    </tr>\n",
       "    <tr>\n",
       "      <th>3</th>\n",
       "      <td>1/3/2020</td>\n",
       "      <td>75.144997</td>\n",
       "      <td>74.125000</td>\n",
       "      <td>74.287498</td>\n",
       "      <td>74.357498</td>\n",
       "      <td>146322800</td>\n",
       "      <td>73.721</td>\n",
       "      <td>NaN</td>\n",
       "      <td>NaN</td>\n",
       "      <td>NaN</td>\n",
       "    </tr>\n",
       "    <tr>\n",
       "      <th>4</th>\n",
       "      <td>1/6/2020</td>\n",
       "      <td>74.989998</td>\n",
       "      <td>73.187500</td>\n",
       "      <td>73.447502</td>\n",
       "      <td>74.949997</td>\n",
       "      <td>118387200</td>\n",
       "      <td>74.308</td>\n",
       "      <td>NaN</td>\n",
       "      <td>NaN</td>\n",
       "      <td>NaN</td>\n",
       "    </tr>\n",
       "    <tr>\n",
       "      <th>5</th>\n",
       "      <td>1/7/2020</td>\n",
       "      <td>75.224998</td>\n",
       "      <td>74.370003</td>\n",
       "      <td>74.959999</td>\n",
       "      <td>74.597504</td>\n",
       "      <td>108872000</td>\n",
       "      <td>73.959</td>\n",
       "      <td>NaN</td>\n",
       "      <td>NaN</td>\n",
       "      <td>NaN</td>\n",
       "    </tr>\n",
       "    <tr>\n",
       "      <th>6</th>\n",
       "      <td>1/8/2020</td>\n",
       "      <td>76.110001</td>\n",
       "      <td>74.290001</td>\n",
       "      <td>74.290001</td>\n",
       "      <td>75.797501</td>\n",
       "      <td>132079200</td>\n",
       "      <td>75.149</td>\n",
       "      <td>NaN</td>\n",
       "      <td>NaN</td>\n",
       "      <td>NaN</td>\n",
       "    </tr>\n",
       "    <tr>\n",
       "      <th>7</th>\n",
       "      <td>1/9/2020</td>\n",
       "      <td>77.607498</td>\n",
       "      <td>76.550003</td>\n",
       "      <td>76.809998</td>\n",
       "      <td>77.407501</td>\n",
       "      <td>170108400</td>\n",
       "      <td>76.745</td>\n",
       "      <td>NaN</td>\n",
       "      <td>NaN</td>\n",
       "      <td>NaN</td>\n",
       "    </tr>\n",
       "    <tr>\n",
       "      <th>8</th>\n",
       "      <td>1/10/2020</td>\n",
       "      <td>78.167503</td>\n",
       "      <td>77.062500</td>\n",
       "      <td>77.650002</td>\n",
       "      <td>77.582497</td>\n",
       "      <td>140644800</td>\n",
       "      <td>76.918</td>\n",
       "      <td>NaN</td>\n",
       "      <td>NaN</td>\n",
       "      <td>NaN</td>\n",
       "    </tr>\n",
       "    <tr>\n",
       "      <th>9</th>\n",
       "      <td>1/13/2020</td>\n",
       "      <td>79.267502</td>\n",
       "      <td>77.787498</td>\n",
       "      <td>77.910004</td>\n",
       "      <td>79.239998</td>\n",
       "      <td>121532000</td>\n",
       "      <td>78.562</td>\n",
       "      <td>74.8847</td>\n",
       "      <td>NaN</td>\n",
       "      <td>NaN</td>\n",
       "    </tr>\n",
       "    <tr>\n",
       "      <th>10</th>\n",
       "      <td>1/14/2020</td>\n",
       "      <td>79.392502</td>\n",
       "      <td>78.042503</td>\n",
       "      <td>79.175003</td>\n",
       "      <td>78.169998</td>\n",
       "      <td>161954400</td>\n",
       "      <td>77.501</td>\n",
       "      <td>75.4092</td>\n",
       "      <td>NaN</td>\n",
       "      <td>NaN</td>\n",
       "    </tr>\n",
       "    <tr>\n",
       "      <th>11</th>\n",
       "      <td>1/15/2020</td>\n",
       "      <td>78.875000</td>\n",
       "      <td>77.387497</td>\n",
       "      <td>77.962502</td>\n",
       "      <td>77.834999</td>\n",
       "      <td>121923600</td>\n",
       "      <td>77.169</td>\n",
       "      <td>75.8477</td>\n",
       "      <td>NaN</td>\n",
       "      <td>NaN</td>\n",
       "    </tr>\n",
       "    <tr>\n",
       "      <th>12</th>\n",
       "      <td>1/16/2020</td>\n",
       "      <td>78.925003</td>\n",
       "      <td>78.022499</td>\n",
       "      <td>78.397499</td>\n",
       "      <td>78.809998</td>\n",
       "      <td>108829200</td>\n",
       "      <td>78.135</td>\n",
       "      <td>76.2167</td>\n",
       "      <td>NaN</td>\n",
       "      <td>NaN</td>\n",
       "    </tr>\n",
       "    <tr>\n",
       "      <th>13</th>\n",
       "      <td>1/17/2020</td>\n",
       "      <td>79.684998</td>\n",
       "      <td>78.750000</td>\n",
       "      <td>79.067497</td>\n",
       "      <td>79.682503</td>\n",
       "      <td>137816400</td>\n",
       "      <td>79.000</td>\n",
       "      <td>76.7446</td>\n",
       "      <td>NaN</td>\n",
       "      <td>NaN</td>\n",
       "    </tr>\n",
       "    <tr>\n",
       "      <th>14</th>\n",
       "      <td>1/21/2020</td>\n",
       "      <td>79.754997</td>\n",
       "      <td>79.000000</td>\n",
       "      <td>79.297501</td>\n",
       "      <td>79.142502</td>\n",
       "      <td>110843200</td>\n",
       "      <td>78.465</td>\n",
       "      <td>77.1603</td>\n",
       "      <td>NaN</td>\n",
       "      <td>NaN</td>\n",
       "    </tr>\n",
       "    <tr>\n",
       "      <th>15</th>\n",
       "      <td>1/22/2020</td>\n",
       "      <td>79.997498</td>\n",
       "      <td>79.327499</td>\n",
       "      <td>79.644997</td>\n",
       "      <td>79.425003</td>\n",
       "      <td>101832400</td>\n",
       "      <td>78.745</td>\n",
       "      <td>77.6389</td>\n",
       "      <td>NaN</td>\n",
       "      <td>NaN</td>\n",
       "    </tr>\n",
       "    <tr>\n",
       "      <th>16</th>\n",
       "      <td>1/23/2020</td>\n",
       "      <td>79.889999</td>\n",
       "      <td>78.912498</td>\n",
       "      <td>79.480003</td>\n",
       "      <td>79.807503</td>\n",
       "      <td>104472000</td>\n",
       "      <td>79.124</td>\n",
       "      <td>78.0364</td>\n",
       "      <td>NaN</td>\n",
       "      <td>NaN</td>\n",
       "    </tr>\n",
       "    <tr>\n",
       "      <th>17</th>\n",
       "      <td>1/24/2020</td>\n",
       "      <td>80.832497</td>\n",
       "      <td>79.379997</td>\n",
       "      <td>80.062500</td>\n",
       "      <td>79.577499</td>\n",
       "      <td>146537600</td>\n",
       "      <td>78.896</td>\n",
       "      <td>78.2515</td>\n",
       "      <td>NaN</td>\n",
       "      <td>NaN</td>\n",
       "    </tr>\n",
       "    <tr>\n",
       "      <th>18</th>\n",
       "      <td>1/27/2020</td>\n",
       "      <td>77.942497</td>\n",
       "      <td>76.220001</td>\n",
       "      <td>77.514999</td>\n",
       "      <td>77.237503</td>\n",
       "      <td>161940000</td>\n",
       "      <td>76.576</td>\n",
       "      <td>78.2173</td>\n",
       "      <td>NaN</td>\n",
       "      <td>NaN</td>\n",
       "    </tr>\n",
       "    <tr>\n",
       "      <th>19</th>\n",
       "      <td>1/28/2020</td>\n",
       "      <td>79.599998</td>\n",
       "      <td>78.047501</td>\n",
       "      <td>78.150002</td>\n",
       "      <td>79.422501</td>\n",
       "      <td>162234000</td>\n",
       "      <td>78.742</td>\n",
       "      <td>78.2353</td>\n",
       "      <td>76.56000</td>\n",
       "      <td>NaN</td>\n",
       "    </tr>\n",
       "    <tr>\n",
       "      <th>20</th>\n",
       "      <td>1/29/2020</td>\n",
       "      <td>81.962502</td>\n",
       "      <td>80.345001</td>\n",
       "      <td>81.112503</td>\n",
       "      <td>81.084999</td>\n",
       "      <td>216229200</td>\n",
       "      <td>80.391</td>\n",
       "      <td>78.5243</td>\n",
       "      <td>76.96675</td>\n",
       "      <td>NaN</td>\n",
       "    </tr>\n",
       "    <tr>\n",
       "      <th>21</th>\n",
       "      <td>1/30/2020</td>\n",
       "      <td>81.022499</td>\n",
       "      <td>79.687500</td>\n",
       "      <td>80.135002</td>\n",
       "      <td>80.967499</td>\n",
       "      <td>126743200</td>\n",
       "      <td>80.274</td>\n",
       "      <td>78.8348</td>\n",
       "      <td>77.34125</td>\n",
       "      <td>NaN</td>\n",
       "    </tr>\n",
       "    <tr>\n",
       "      <th>22</th>\n",
       "      <td>1/31/2020</td>\n",
       "      <td>80.669998</td>\n",
       "      <td>77.072502</td>\n",
       "      <td>80.232498</td>\n",
       "      <td>77.377502</td>\n",
       "      <td>199588400</td>\n",
       "      <td>76.715</td>\n",
       "      <td>78.6928</td>\n",
       "      <td>77.45475</td>\n",
       "      <td>NaN</td>\n",
       "    </tr>\n",
       "    <tr>\n",
       "      <th>23</th>\n",
       "      <td>2/3/2020</td>\n",
       "      <td>78.372498</td>\n",
       "      <td>75.555000</td>\n",
       "      <td>76.074997</td>\n",
       "      <td>77.165001</td>\n",
       "      <td>173985600</td>\n",
       "      <td>76.504</td>\n",
       "      <td>78.4432</td>\n",
       "      <td>77.59390</td>\n",
       "      <td>NaN</td>\n",
       "    </tr>\n",
       "    <tr>\n",
       "      <th>24</th>\n",
       "      <td>2/4/2020</td>\n",
       "      <td>79.910004</td>\n",
       "      <td>78.407501</td>\n",
       "      <td>78.827499</td>\n",
       "      <td>79.712502</td>\n",
       "      <td>136616400</td>\n",
       "      <td>79.030</td>\n",
       "      <td>78.4997</td>\n",
       "      <td>77.83000</td>\n",
       "      <td>NaN</td>\n",
       "    </tr>\n",
       "    <tr>\n",
       "      <th>25</th>\n",
       "      <td>2/5/2020</td>\n",
       "      <td>81.190002</td>\n",
       "      <td>79.737503</td>\n",
       "      <td>80.879997</td>\n",
       "      <td>80.362503</td>\n",
       "      <td>118826800</td>\n",
       "      <td>79.674</td>\n",
       "      <td>78.5926</td>\n",
       "      <td>78.11575</td>\n",
       "      <td>NaN</td>\n",
       "    </tr>\n",
       "    <tr>\n",
       "      <th>26</th>\n",
       "      <td>2/6/2020</td>\n",
       "      <td>81.305000</td>\n",
       "      <td>80.065002</td>\n",
       "      <td>80.642502</td>\n",
       "      <td>81.302498</td>\n",
       "      <td>105425600</td>\n",
       "      <td>80.606</td>\n",
       "      <td>78.7408</td>\n",
       "      <td>78.38860</td>\n",
       "      <td>NaN</td>\n",
       "    </tr>\n",
       "    <tr>\n",
       "      <th>27</th>\n",
       "      <td>2/7/2020</td>\n",
       "      <td>80.849998</td>\n",
       "      <td>79.500000</td>\n",
       "      <td>80.592499</td>\n",
       "      <td>80.007500</td>\n",
       "      <td>117684000</td>\n",
       "      <td>79.511</td>\n",
       "      <td>78.8023</td>\n",
       "      <td>78.52690</td>\n",
       "      <td>NaN</td>\n",
       "    </tr>\n",
       "    <tr>\n",
       "      <th>28</th>\n",
       "      <td>2/10/2020</td>\n",
       "      <td>80.387497</td>\n",
       "      <td>78.462502</td>\n",
       "      <td>78.544998</td>\n",
       "      <td>80.387497</td>\n",
       "      <td>109348800</td>\n",
       "      <td>79.888</td>\n",
       "      <td>79.1335</td>\n",
       "      <td>78.67540</td>\n",
       "      <td>NaN</td>\n",
       "    </tr>\n",
       "    <tr>\n",
       "      <th>29</th>\n",
       "      <td>2/11/2020</td>\n",
       "      <td>80.974998</td>\n",
       "      <td>79.677498</td>\n",
       "      <td>80.900002</td>\n",
       "      <td>79.902496</td>\n",
       "      <td>94323200</td>\n",
       "      <td>79.406</td>\n",
       "      <td>79.1999</td>\n",
       "      <td>78.71760</td>\n",
       "      <td>NaN</td>\n",
       "    </tr>\n",
       "    <tr>\n",
       "      <th>30</th>\n",
       "      <td>2/12/2020</td>\n",
       "      <td>81.805000</td>\n",
       "      <td>80.367500</td>\n",
       "      <td>80.367500</td>\n",
       "      <td>81.800003</td>\n",
       "      <td>113730400</td>\n",
       "      <td>81.292</td>\n",
       "      <td>79.2900</td>\n",
       "      <td>78.90715</td>\n",
       "      <td>NaN</td>\n",
       "    </tr>\n",
       "    <tr>\n",
       "      <th>31</th>\n",
       "      <td>2/13/2020</td>\n",
       "      <td>81.555000</td>\n",
       "      <td>80.837502</td>\n",
       "      <td>81.047501</td>\n",
       "      <td>81.217499</td>\n",
       "      <td>94747600</td>\n",
       "      <td>80.713</td>\n",
       "      <td>79.3339</td>\n",
       "      <td>79.08435</td>\n",
       "      <td>NaN</td>\n",
       "    </tr>\n",
       "    <tr>\n",
       "      <th>32</th>\n",
       "      <td>2/14/2020</td>\n",
       "      <td>81.495003</td>\n",
       "      <td>80.712502</td>\n",
       "      <td>81.184998</td>\n",
       "      <td>81.237503</td>\n",
       "      <td>80113600</td>\n",
       "      <td>80.733</td>\n",
       "      <td>79.7357</td>\n",
       "      <td>79.21425</td>\n",
       "      <td>NaN</td>\n",
       "    </tr>\n",
       "    <tr>\n",
       "      <th>33</th>\n",
       "      <td>2/18/2020</td>\n",
       "      <td>79.937500</td>\n",
       "      <td>78.652496</td>\n",
       "      <td>78.839996</td>\n",
       "      <td>79.750000</td>\n",
       "      <td>152531200</td>\n",
       "      <td>79.255</td>\n",
       "      <td>80.0108</td>\n",
       "      <td>79.22700</td>\n",
       "      <td>NaN</td>\n",
       "    </tr>\n",
       "    <tr>\n",
       "      <th>34</th>\n",
       "      <td>2/19/2020</td>\n",
       "      <td>81.142502</td>\n",
       "      <td>80.000000</td>\n",
       "      <td>80.000000</td>\n",
       "      <td>80.904999</td>\n",
       "      <td>93984000</td>\n",
       "      <td>80.403</td>\n",
       "      <td>80.1481</td>\n",
       "      <td>79.32390</td>\n",
       "      <td>NaN</td>\n",
       "    </tr>\n",
       "    <tr>\n",
       "      <th>35</th>\n",
       "      <td>2/20/2020</td>\n",
       "      <td>81.162498</td>\n",
       "      <td>79.552498</td>\n",
       "      <td>80.657501</td>\n",
       "      <td>80.074997</td>\n",
       "      <td>100566000</td>\n",
       "      <td>79.578</td>\n",
       "      <td>80.1385</td>\n",
       "      <td>79.36555</td>\n",
       "      <td>NaN</td>\n",
       "    </tr>\n",
       "    <tr>\n",
       "      <th>36</th>\n",
       "      <td>2/21/2020</td>\n",
       "      <td>80.112503</td>\n",
       "      <td>77.625000</td>\n",
       "      <td>79.654999</td>\n",
       "      <td>78.262497</td>\n",
       "      <td>129554000</td>\n",
       "      <td>77.777</td>\n",
       "      <td>79.8556</td>\n",
       "      <td>79.29820</td>\n",
       "      <td>NaN</td>\n",
       "    </tr>\n",
       "    <tr>\n",
       "      <th>37</th>\n",
       "      <td>2/24/2020</td>\n",
       "      <td>76.044998</td>\n",
       "      <td>72.307503</td>\n",
       "      <td>74.315002</td>\n",
       "      <td>74.544998</td>\n",
       "      <td>222195200</td>\n",
       "      <td>74.082</td>\n",
       "      <td>79.3127</td>\n",
       "      <td>79.05750</td>\n",
       "      <td>NaN</td>\n",
       "    </tr>\n",
       "    <tr>\n",
       "      <th>38</th>\n",
       "      <td>2/25/2020</td>\n",
       "      <td>75.632500</td>\n",
       "      <td>71.532501</td>\n",
       "      <td>75.237503</td>\n",
       "      <td>72.019997</td>\n",
       "      <td>230673600</td>\n",
       "      <td>71.573</td>\n",
       "      <td>78.4812</td>\n",
       "      <td>78.80735</td>\n",
       "      <td>NaN</td>\n",
       "    </tr>\n",
       "    <tr>\n",
       "      <th>39</th>\n",
       "      <td>2/26/2020</td>\n",
       "      <td>74.470001</td>\n",
       "      <td>71.625000</td>\n",
       "      <td>71.632500</td>\n",
       "      <td>73.162498</td>\n",
       "      <td>198054800</td>\n",
       "      <td>72.708</td>\n",
       "      <td>77.8114</td>\n",
       "      <td>78.50565</td>\n",
       "      <td>NaN</td>\n",
       "    </tr>\n",
       "    <tr>\n",
       "      <th>40</th>\n",
       "      <td>2/27/2020</td>\n",
       "      <td>71.500000</td>\n",
       "      <td>68.239998</td>\n",
       "      <td>70.275002</td>\n",
       "      <td>68.379997</td>\n",
       "      <td>320605600</td>\n",
       "      <td>67.955</td>\n",
       "      <td>76.4777</td>\n",
       "      <td>77.88385</td>\n",
       "      <td>NaN</td>\n",
       "    </tr>\n",
       "    <tr>\n",
       "      <th>41</th>\n",
       "      <td>2/28/2020</td>\n",
       "      <td>69.602501</td>\n",
       "      <td>64.092499</td>\n",
       "      <td>64.315002</td>\n",
       "      <td>68.339996</td>\n",
       "      <td>426884800</td>\n",
       "      <td>67.916</td>\n",
       "      <td>75.1980</td>\n",
       "      <td>77.26595</td>\n",
       "      <td>NaN</td>\n",
       "    </tr>\n",
       "    <tr>\n",
       "      <th>42</th>\n",
       "      <td>3/2/2020</td>\n",
       "      <td>75.360001</td>\n",
       "      <td>69.430000</td>\n",
       "      <td>70.570000</td>\n",
       "      <td>74.702499</td>\n",
       "      <td>341397200</td>\n",
       "      <td>74.239</td>\n",
       "      <td>74.5486</td>\n",
       "      <td>77.14215</td>\n",
       "      <td>NaN</td>\n",
       "    </tr>\n",
       "    <tr>\n",
       "      <th>43</th>\n",
       "      <td>3/3/2020</td>\n",
       "      <td>76.000000</td>\n",
       "      <td>71.449997</td>\n",
       "      <td>75.917503</td>\n",
       "      <td>72.330002</td>\n",
       "      <td>319475600</td>\n",
       "      <td>71.881</td>\n",
       "      <td>73.8112</td>\n",
       "      <td>76.91100</td>\n",
       "      <td>NaN</td>\n",
       "    </tr>\n",
       "    <tr>\n",
       "      <th>44</th>\n",
       "      <td>3/4/2020</td>\n",
       "      <td>75.849998</td>\n",
       "      <td>73.282501</td>\n",
       "      <td>74.110001</td>\n",
       "      <td>75.684998</td>\n",
       "      <td>219178400</td>\n",
       "      <td>75.215</td>\n",
       "      <td>73.2924</td>\n",
       "      <td>76.72025</td>\n",
       "      <td>NaN</td>\n",
       "    </tr>\n",
       "    <tr>\n",
       "      <th>45</th>\n",
       "      <td>3/5/2020</td>\n",
       "      <td>74.887497</td>\n",
       "      <td>72.852501</td>\n",
       "      <td>73.879997</td>\n",
       "      <td>73.230003</td>\n",
       "      <td>187572800</td>\n",
       "      <td>72.775</td>\n",
       "      <td>72.6121</td>\n",
       "      <td>76.37530</td>\n",
       "      <td>NaN</td>\n",
       "    </tr>\n",
       "    <tr>\n",
       "      <th>46</th>\n",
       "      <td>3/6/2020</td>\n",
       "      <td>72.705002</td>\n",
       "      <td>70.307503</td>\n",
       "      <td>70.500000</td>\n",
       "      <td>72.257500</td>\n",
       "      <td>226176800</td>\n",
       "      <td>71.809</td>\n",
       "      <td>72.0153</td>\n",
       "      <td>75.93545</td>\n",
       "      <td>NaN</td>\n",
       "    </tr>\n",
       "    <tr>\n",
       "      <th>47</th>\n",
       "      <td>3/9/2020</td>\n",
       "      <td>69.522499</td>\n",
       "      <td>65.750000</td>\n",
       "      <td>65.937500</td>\n",
       "      <td>66.542503</td>\n",
       "      <td>286744800</td>\n",
       "      <td>66.129</td>\n",
       "      <td>71.2200</td>\n",
       "      <td>75.26635</td>\n",
       "      <td>NaN</td>\n",
       "    </tr>\n",
       "    <tr>\n",
       "      <th>48</th>\n",
       "      <td>3/10/2020</td>\n",
       "      <td>71.610001</td>\n",
       "      <td>67.342499</td>\n",
       "      <td>69.285004</td>\n",
       "      <td>71.334999</td>\n",
       "      <td>285290000</td>\n",
       "      <td>70.892</td>\n",
       "      <td>71.1519</td>\n",
       "      <td>74.81655</td>\n",
       "      <td>NaN</td>\n",
       "    </tr>\n",
       "    <tr>\n",
       "      <th>49</th>\n",
       "      <td>3/11/2020</td>\n",
       "      <td>70.305000</td>\n",
       "      <td>67.964996</td>\n",
       "      <td>69.347504</td>\n",
       "      <td>68.857498</td>\n",
       "      <td>255598800</td>\n",
       "      <td>68.430</td>\n",
       "      <td>70.7241</td>\n",
       "      <td>74.26775</td>\n",
       "      <td>76.17108</td>\n",
       "    </tr>\n",
       "    <tr>\n",
       "      <th>50</th>\n",
       "      <td>3/12/2020</td>\n",
       "      <td>67.500000</td>\n",
       "      <td>62.000000</td>\n",
       "      <td>63.985001</td>\n",
       "      <td>62.057499</td>\n",
       "      <td>418474000</td>\n",
       "      <td>61.672</td>\n",
       "      <td>70.0958</td>\n",
       "      <td>73.28675</td>\n",
       "      <td>75.95940</td>\n",
       "    </tr>\n",
       "    <tr>\n",
       "      <th>51</th>\n",
       "      <td>3/13/2020</td>\n",
       "      <td>69.980003</td>\n",
       "      <td>63.237499</td>\n",
       "      <td>66.222504</td>\n",
       "      <td>69.492500</td>\n",
       "      <td>370732000</td>\n",
       "      <td>69.061</td>\n",
       "      <td>70.2103</td>\n",
       "      <td>72.70415</td>\n",
       "      <td>75.88494</td>\n",
       "    </tr>\n",
       "    <tr>\n",
       "      <th>52</th>\n",
       "      <td>3/16/2020</td>\n",
       "      <td>64.769997</td>\n",
       "      <td>60.000000</td>\n",
       "      <td>60.487499</td>\n",
       "      <td>60.552502</td>\n",
       "      <td>322423600</td>\n",
       "      <td>60.177</td>\n",
       "      <td>68.8041</td>\n",
       "      <td>71.67635</td>\n",
       "      <td>75.59958</td>\n",
       "    </tr>\n",
       "    <tr>\n",
       "      <th>53</th>\n",
       "      <td>3/17/2020</td>\n",
       "      <td>64.402496</td>\n",
       "      <td>59.599998</td>\n",
       "      <td>61.877499</td>\n",
       "      <td>63.215000</td>\n",
       "      <td>324056000</td>\n",
       "      <td>62.822</td>\n",
       "      <td>67.8982</td>\n",
       "      <td>70.85470</td>\n",
       "      <td>75.38160</td>\n",
       "    </tr>\n",
       "    <tr>\n",
       "      <th>54</th>\n",
       "      <td>3/18/2020</td>\n",
       "      <td>62.500000</td>\n",
       "      <td>59.279999</td>\n",
       "      <td>59.942501</td>\n",
       "      <td>61.667500</td>\n",
       "      <td>300233600</td>\n",
       "      <td>61.285</td>\n",
       "      <td>66.5052</td>\n",
       "      <td>69.89880</td>\n",
       "      <td>75.12114</td>\n",
       "    </tr>\n",
       "  </tbody>\n",
       "</table>\n",
       "</div>"
      ],
      "text/plain": [
       "          Date       High        Low       Open      Close     Volume  \\\n",
       "0   12/30/2019  73.172501  71.305000  72.364998  72.879997  144114400   \n",
       "1   12/31/2019  73.419998  72.379997  72.482498  73.412498  100805600   \n",
       "2     1/2/2020  75.150002  73.797501  74.059998  75.087502  135480400   \n",
       "3     1/3/2020  75.144997  74.125000  74.287498  74.357498  146322800   \n",
       "4     1/6/2020  74.989998  73.187500  73.447502  74.949997  118387200   \n",
       "5     1/7/2020  75.224998  74.370003  74.959999  74.597504  108872000   \n",
       "6     1/8/2020  76.110001  74.290001  74.290001  75.797501  132079200   \n",
       "7     1/9/2020  77.607498  76.550003  76.809998  77.407501  170108400   \n",
       "8    1/10/2020  78.167503  77.062500  77.650002  77.582497  140644800   \n",
       "9    1/13/2020  79.267502  77.787498  77.910004  79.239998  121532000   \n",
       "10   1/14/2020  79.392502  78.042503  79.175003  78.169998  161954400   \n",
       "11   1/15/2020  78.875000  77.387497  77.962502  77.834999  121923600   \n",
       "12   1/16/2020  78.925003  78.022499  78.397499  78.809998  108829200   \n",
       "13   1/17/2020  79.684998  78.750000  79.067497  79.682503  137816400   \n",
       "14   1/21/2020  79.754997  79.000000  79.297501  79.142502  110843200   \n",
       "15   1/22/2020  79.997498  79.327499  79.644997  79.425003  101832400   \n",
       "16   1/23/2020  79.889999  78.912498  79.480003  79.807503  104472000   \n",
       "17   1/24/2020  80.832497  79.379997  80.062500  79.577499  146537600   \n",
       "18   1/27/2020  77.942497  76.220001  77.514999  77.237503  161940000   \n",
       "19   1/28/2020  79.599998  78.047501  78.150002  79.422501  162234000   \n",
       "20   1/29/2020  81.962502  80.345001  81.112503  81.084999  216229200   \n",
       "21   1/30/2020  81.022499  79.687500  80.135002  80.967499  126743200   \n",
       "22   1/31/2020  80.669998  77.072502  80.232498  77.377502  199588400   \n",
       "23    2/3/2020  78.372498  75.555000  76.074997  77.165001  173985600   \n",
       "24    2/4/2020  79.910004  78.407501  78.827499  79.712502  136616400   \n",
       "25    2/5/2020  81.190002  79.737503  80.879997  80.362503  118826800   \n",
       "26    2/6/2020  81.305000  80.065002  80.642502  81.302498  105425600   \n",
       "27    2/7/2020  80.849998  79.500000  80.592499  80.007500  117684000   \n",
       "28   2/10/2020  80.387497  78.462502  78.544998  80.387497  109348800   \n",
       "29   2/11/2020  80.974998  79.677498  80.900002  79.902496   94323200   \n",
       "30   2/12/2020  81.805000  80.367500  80.367500  81.800003  113730400   \n",
       "31   2/13/2020  81.555000  80.837502  81.047501  81.217499   94747600   \n",
       "32   2/14/2020  81.495003  80.712502  81.184998  81.237503   80113600   \n",
       "33   2/18/2020  79.937500  78.652496  78.839996  79.750000  152531200   \n",
       "34   2/19/2020  81.142502  80.000000  80.000000  80.904999   93984000   \n",
       "35   2/20/2020  81.162498  79.552498  80.657501  80.074997  100566000   \n",
       "36   2/21/2020  80.112503  77.625000  79.654999  78.262497  129554000   \n",
       "37   2/24/2020  76.044998  72.307503  74.315002  74.544998  222195200   \n",
       "38   2/25/2020  75.632500  71.532501  75.237503  72.019997  230673600   \n",
       "39   2/26/2020  74.470001  71.625000  71.632500  73.162498  198054800   \n",
       "40   2/27/2020  71.500000  68.239998  70.275002  68.379997  320605600   \n",
       "41   2/28/2020  69.602501  64.092499  64.315002  68.339996  426884800   \n",
       "42    3/2/2020  75.360001  69.430000  70.570000  74.702499  341397200   \n",
       "43    3/3/2020  76.000000  71.449997  75.917503  72.330002  319475600   \n",
       "44    3/4/2020  75.849998  73.282501  74.110001  75.684998  219178400   \n",
       "45    3/5/2020  74.887497  72.852501  73.879997  73.230003  187572800   \n",
       "46    3/6/2020  72.705002  70.307503  70.500000  72.257500  226176800   \n",
       "47    3/9/2020  69.522499  65.750000  65.937500  66.542503  286744800   \n",
       "48   3/10/2020  71.610001  67.342499  69.285004  71.334999  285290000   \n",
       "49   3/11/2020  70.305000  67.964996  69.347504  68.857498  255598800   \n",
       "50   3/12/2020  67.500000  62.000000  63.985001  62.057499  418474000   \n",
       "51   3/13/2020  69.980003  63.237499  66.222504  69.492500  370732000   \n",
       "52   3/16/2020  64.769997  60.000000  60.487499  60.552502  322423600   \n",
       "53   3/17/2020  64.402496  59.599998  61.877499  63.215000  324056000   \n",
       "54   3/18/2020  62.500000  59.279999  59.942501  61.667500  300233600   \n",
       "\n",
       "    Adj Close  MA 10 days  MA 20 days  MA 50 days  \n",
       "0      72.256         NaN         NaN         NaN  \n",
       "1      72.784         NaN         NaN         NaN  \n",
       "2      74.445         NaN         NaN         NaN  \n",
       "3      73.721         NaN         NaN         NaN  \n",
       "4      74.308         NaN         NaN         NaN  \n",
       "5      73.959         NaN         NaN         NaN  \n",
       "6      75.149         NaN         NaN         NaN  \n",
       "7      76.745         NaN         NaN         NaN  \n",
       "8      76.918         NaN         NaN         NaN  \n",
       "9      78.562     74.8847         NaN         NaN  \n",
       "10     77.501     75.4092         NaN         NaN  \n",
       "11     77.169     75.8477         NaN         NaN  \n",
       "12     78.135     76.2167         NaN         NaN  \n",
       "13     79.000     76.7446         NaN         NaN  \n",
       "14     78.465     77.1603         NaN         NaN  \n",
       "15     78.745     77.6389         NaN         NaN  \n",
       "16     79.124     78.0364         NaN         NaN  \n",
       "17     78.896     78.2515         NaN         NaN  \n",
       "18     76.576     78.2173         NaN         NaN  \n",
       "19     78.742     78.2353    76.56000         NaN  \n",
       "20     80.391     78.5243    76.96675         NaN  \n",
       "21     80.274     78.8348    77.34125         NaN  \n",
       "22     76.715     78.6928    77.45475         NaN  \n",
       "23     76.504     78.4432    77.59390         NaN  \n",
       "24     79.030     78.4997    77.83000         NaN  \n",
       "25     79.674     78.5926    78.11575         NaN  \n",
       "26     80.606     78.7408    78.38860         NaN  \n",
       "27     79.511     78.8023    78.52690         NaN  \n",
       "28     79.888     79.1335    78.67540         NaN  \n",
       "29     79.406     79.1999    78.71760         NaN  \n",
       "30     81.292     79.2900    78.90715         NaN  \n",
       "31     80.713     79.3339    79.08435         NaN  \n",
       "32     80.733     79.7357    79.21425         NaN  \n",
       "33     79.255     80.0108    79.22700         NaN  \n",
       "34     80.403     80.1481    79.32390         NaN  \n",
       "35     79.578     80.1385    79.36555         NaN  \n",
       "36     77.777     79.8556    79.29820         NaN  \n",
       "37     74.082     79.3127    79.05750         NaN  \n",
       "38     71.573     78.4812    78.80735         NaN  \n",
       "39     72.708     77.8114    78.50565         NaN  \n",
       "40     67.955     76.4777    77.88385         NaN  \n",
       "41     67.916     75.1980    77.26595         NaN  \n",
       "42     74.239     74.5486    77.14215         NaN  \n",
       "43     71.881     73.8112    76.91100         NaN  \n",
       "44     75.215     73.2924    76.72025         NaN  \n",
       "45     72.775     72.6121    76.37530         NaN  \n",
       "46     71.809     72.0153    75.93545         NaN  \n",
       "47     66.129     71.2200    75.26635         NaN  \n",
       "48     70.892     71.1519    74.81655         NaN  \n",
       "49     68.430     70.7241    74.26775    76.17108  \n",
       "50     61.672     70.0958    73.28675    75.95940  \n",
       "51     69.061     70.2103    72.70415    75.88494  \n",
       "52     60.177     68.8041    71.67635    75.59958  \n",
       "53     62.822     67.8982    70.85470    75.38160  \n",
       "54     61.285     66.5052    69.89880    75.12114  "
      ]
     },
     "execution_count": 20,
     "metadata": {},
     "output_type": "execute_result"
    }
   ],
   "source": [
    "moving_averages = [10, 20, 50]  # List of moving average windows\n",
    "for ma in moving_averages:\n",
    "    column_name = f\"MA {ma} days\"  # Use f-strings for clarity and efficiency\n",
    "    AAPL[column_name] = AAPL['Adj Close'].rolling(window=ma, center=False).mean()\n",
    "    \n",
    "AAPL.head(55)"
   ]
  },
  {
   "cell_type": "code",
   "execution_count": 21,
   "metadata": {},
   "outputs": [
    {
     "data": {
      "text/plain": [
       "<Axes: >"
      ]
     },
     "execution_count": 21,
     "metadata": {},
     "output_type": "execute_result"
    },
    {
     "data": {
      "image/png": "[encoded data removed]",
      "text/plain": [
       "<Figure size 1200x500 with 1 Axes>"
      ]
     },
     "metadata": {},
     "output_type": "display_data"
    }
   ],
   "source": [
    "AAPL[['Adj Close','MA 10 days','MA 20 days','MA 50 days']].plot(figsize=(12,5))"
   ]
  },
  {
   "cell_type": "code",
   "execution_count": 22,
   "metadata": {},
   "outputs": [
    {
     "data": {
      "text/html": [
       "<div>\n",
       "<style scoped>\n",
       "    .dataframe tbody tr th:only-of-type {\n",
       "        vertical-align: middle;\n",
       "    }\n",
       "\n",
       "    .dataframe tbody tr th {\n",
       "        vertical-align: top;\n",
       "    }\n",
       "\n",
       "    .dataframe thead th {\n",
       "        text-align: right;\n",
       "    }\n",
       "</style>\n",
       "<table border=\"1\" class=\"dataframe\">\n",
       "  <thead>\n",
       "    <tr style=\"text-align: right;\">\n",
       "      <th></th>\n",
       "      <th>Date</th>\n",
       "      <th>High</th>\n",
       "      <th>Low</th>\n",
       "      <th>Open</th>\n",
       "      <th>Close</th>\n",
       "      <th>Volume</th>\n",
       "      <th>Adj Close</th>\n",
       "      <th>MA 10 days</th>\n",
       "      <th>MA 20 days</th>\n",
       "      <th>MA 50 days</th>\n",
       "      <th>Daily Return</th>\n",
       "    </tr>\n",
       "  </thead>\n",
       "  <tbody>\n",
       "    <tr>\n",
       "      <th>0</th>\n",
       "      <td>12/30/2019</td>\n",
       "      <td>73.172501</td>\n",
       "      <td>71.305000</td>\n",
       "      <td>72.364998</td>\n",
       "      <td>72.879997</td>\n",
       "      <td>144114400</td>\n",
       "      <td>72.256</td>\n",
       "      <td>NaN</td>\n",
       "      <td>NaN</td>\n",
       "      <td>NaN</td>\n",
       "      <td>NaN</td>\n",
       "    </tr>\n",
       "    <tr>\n",
       "      <th>1</th>\n",
       "      <td>12/31/2019</td>\n",
       "      <td>73.419998</td>\n",
       "      <td>72.379997</td>\n",
       "      <td>72.482498</td>\n",
       "      <td>73.412498</td>\n",
       "      <td>100805600</td>\n",
       "      <td>72.784</td>\n",
       "      <td>NaN</td>\n",
       "      <td>NaN</td>\n",
       "      <td>NaN</td>\n",
       "      <td>0.007307</td>\n",
       "    </tr>\n",
       "    <tr>\n",
       "      <th>2</th>\n",
       "      <td>1/2/2020</td>\n",
       "      <td>75.150002</td>\n",
       "      <td>73.797501</td>\n",
       "      <td>74.059998</td>\n",
       "      <td>75.087502</td>\n",
       "      <td>135480400</td>\n",
       "      <td>74.445</td>\n",
       "      <td>NaN</td>\n",
       "      <td>NaN</td>\n",
       "      <td>NaN</td>\n",
       "      <td>0.022821</td>\n",
       "    </tr>\n",
       "    <tr>\n",
       "      <th>3</th>\n",
       "      <td>1/3/2020</td>\n",
       "      <td>75.144997</td>\n",
       "      <td>74.125000</td>\n",
       "      <td>74.287498</td>\n",
       "      <td>74.357498</td>\n",
       "      <td>146322800</td>\n",
       "      <td>73.721</td>\n",
       "      <td>NaN</td>\n",
       "      <td>NaN</td>\n",
       "      <td>NaN</td>\n",
       "      <td>-0.009725</td>\n",
       "    </tr>\n",
       "    <tr>\n",
       "      <th>4</th>\n",
       "      <td>1/6/2020</td>\n",
       "      <td>74.989998</td>\n",
       "      <td>73.187500</td>\n",
       "      <td>73.447502</td>\n",
       "      <td>74.949997</td>\n",
       "      <td>118387200</td>\n",
       "      <td>74.308</td>\n",
       "      <td>NaN</td>\n",
       "      <td>NaN</td>\n",
       "      <td>NaN</td>\n",
       "      <td>0.007962</td>\n",
       "    </tr>\n",
       "  </tbody>\n",
       "</table>\n",
       "</div>"
      ],
      "text/plain": [
       "         Date       High        Low       Open      Close     Volume  \\\n",
       "0  12/30/2019  73.172501  71.305000  72.364998  72.879997  144114400   \n",
       "1  12/31/2019  73.419998  72.379997  72.482498  73.412498  100805600   \n",
       "2    1/2/2020  75.150002  73.797501  74.059998  75.087502  135480400   \n",
       "3    1/3/2020  75.144997  74.125000  74.287498  74.357498  146322800   \n",
       "4    1/6/2020  74.989998  73.187500  73.447502  74.949997  118387200   \n",
       "\n",
       "   Adj Close  MA 10 days  MA 20 days  MA 50 days  Daily Return  \n",
       "0     72.256         NaN         NaN         NaN           NaN  \n",
       "1     72.784         NaN         NaN         NaN      0.007307  \n",
       "2     74.445         NaN         NaN         NaN      0.022821  \n",
       "3     73.721         NaN         NaN         NaN     -0.009725  \n",
       "4     74.308         NaN         NaN         NaN      0.007962  "
      ]
     },
     "execution_count": 22,
     "metadata": {},
     "output_type": "execute_result"
    }
   ],
   "source": [
    "#In order calculate daily return we can use the percentage change of the adjusted closing price\n",
    "AAPL['Daily Return'] = AAPL['Adj Close'].pct_change()\n",
    "AAPL.head()"
   ]
  },
  {
   "cell_type": "code",
   "execution_count": 23,
   "metadata": {},
   "outputs": [
    {
     "data": {
      "text/plain": [
       "<Axes: >"
      ]
     },
     "execution_count": 23,
     "metadata": {},
     "output_type": "execute_result"
    },
    {
     "data": {
      "image/png": "[encoded data removed]",
      "text/plain": [
       "<Figure size 1200x500 with 1 Axes>"
      ]
     },
     "metadata": {},
     "output_type": "display_data"
    }
   ],
   "source": [
    "#Let us now plot the daily return\n",
    "AAPL['Daily Return'].plot(figsize=(12,5))"
   ]
  },
  {
   "cell_type": "code",
   "execution_count": 24,
   "metadata": {},
   "outputs": [
    {
     "data": {
      "text/html": [
       "<div>\n",
       "<style scoped>\n",
       "    .dataframe tbody tr th:only-of-type {\n",
       "        vertical-align: middle;\n",
       "    }\n",
       "\n",
       "    .dataframe tbody tr th {\n",
       "        vertical-align: top;\n",
       "    }\n",
       "\n",
       "    .dataframe thead th {\n",
       "        text-align: right;\n",
       "    }\n",
       "</style>\n",
       "<table border=\"1\" class=\"dataframe\">\n",
       "  <thead>\n",
       "    <tr style=\"text-align: right;\">\n",
       "      <th></th>\n",
       "      <th>Apple</th>\n",
       "      <th>Google</th>\n",
       "      <th>Microsoft</th>\n",
       "    </tr>\n",
       "    <tr>\n",
       "      <th>Date</th>\n",
       "      <th></th>\n",
       "      <th></th>\n",
       "      <th></th>\n",
       "    </tr>\n",
       "  </thead>\n",
       "  <tbody>\n",
       "    <tr>\n",
       "      <th>12/30/2019</th>\n",
       "      <td>72.256</td>\n",
       "      <td>1336.140015</td>\n",
       "      <td>155.938049</td>\n",
       "    </tr>\n",
       "    <tr>\n",
       "      <th>12/31/2019</th>\n",
       "      <td>72.784</td>\n",
       "      <td>1337.020020</td>\n",
       "      <td>156.046890</td>\n",
       "    </tr>\n",
       "    <tr>\n",
       "      <th>1/2/2020</th>\n",
       "      <td>74.445</td>\n",
       "      <td>1367.369995</td>\n",
       "      <td>158.936279</td>\n",
       "    </tr>\n",
       "    <tr>\n",
       "      <th>1/3/2020</th>\n",
       "      <td>73.721</td>\n",
       "      <td>1360.660034</td>\n",
       "      <td>156.957260</td>\n",
       "    </tr>\n",
       "    <tr>\n",
       "      <th>1/6/2020</th>\n",
       "      <td>74.308</td>\n",
       "      <td>1394.209961</td>\n",
       "      <td>157.362961</td>\n",
       "    </tr>\n",
       "  </tbody>\n",
       "</table>\n",
       "</div>"
      ],
      "text/plain": [
       "             Apple       Google   Microsoft\n",
       "Date                                       \n",
       "12/30/2019  72.256  1336.140015  155.938049\n",
       "12/31/2019  72.784  1337.020020  156.046890\n",
       "1/2/2020    74.445  1367.369995  158.936279\n",
       "1/3/2020    73.721  1360.660034  156.957260\n",
       "1/6/2020    74.308  1394.209961  157.362961"
      ]
     },
     "execution_count": 24,
     "metadata": {},
     "output_type": "execute_result"
    }
   ],
   "source": [
    "all_stocks = pd.DataFrame( columns = ['Apple', 'Google', 'Microsoft'], index=AAPL[\"Date\"]) \n",
    "all_stocks['Apple'] = AAPL[\"Adj Close\"].values\n",
    "all_stocks['Google'] = GOOG[\"Adj Close\"].values\n",
    "all_stocks['Microsoft'] = MSFT[\"Adj Close\"].values\n",
    "all_stocks.head()"
   ]
  },
  {
   "cell_type": "code",
   "execution_count": 28,
   "metadata": {},
   "outputs": [
    {
     "data": {
      "text/plain": [
       "<Axes: >"
      ]
     },
     "execution_count": 28,
     "metadata": {},
     "output_type": "execute_result"
    },
    {
     "data": {
      "image/png": "[encoded data removed]",
      "text/plain": [
       "<Figure size 640x480 with 2 Axes>"
      ]
     },
     "metadata": {},
     "output_type": "display_data"
    }
   ],
   "source": [
    "import numpy as np\n",
    "corr = all_stocks.dropna().corr()\n",
    "\n",
    "sns.heatmap(corr, annot=True,mask=False)"
   ]
  },
  {
   "cell_type": "code",
   "execution_count": 38,
   "metadata": {},
   "outputs": [
    {
     "data": {
      "text/plain": [
       "<Axes: xlabel='Date'>"
      ]
     },
     "execution_count": 38,
     "metadata": {},
     "output_type": "execute_result"
    },
    {
     "data": {
      "image/png": "[encoded data removed]",
      "text/plain": [
       "<Figure size 640x480 with 1 Axes>"
      ]
     },
     "metadata": {},
     "output_type": "display_data"
    }
   ],
   "source": [
    "all_stocks.plot()"
   ]
  }
 ],
 "metadata": {
  "kernelspec": {
   "display_name": "Python 3",
   "language": "python",
   "name": "python3"
  },
  "language_info": {
   "codemirror_mode": {
    "name": "ipython",
    "version": 3
   },
   "file_extension": ".py",
   "mimetype": "text/x-python",
   "name": "python",
   "nbconvert_exporter": "python",
   "pygments_lexer": "ipython3",
   "version": "3.13.1"
  }
 },
 "nbformat": 4,
 "nbformat_minor": 4
}
