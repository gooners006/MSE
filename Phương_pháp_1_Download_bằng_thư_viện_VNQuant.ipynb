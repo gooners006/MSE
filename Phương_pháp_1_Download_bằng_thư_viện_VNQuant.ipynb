{
 "cells": [
  {
   "cell_type": "markdown",
   "metadata": {
    "id": "mK9H63dand5u"
   },
   "source": [
    "#**Phương pháp 1: Cách lấy dữ liệu bằng thư viện VNQuant**"
   ]
  },
  {
   "cell_type": "markdown",
   "metadata": {
    "id": "vmg82KFvwety"
   },
   "source": [
    "VNQuant là một thư viện được tạo ra bởi tác giả Phạm Đình Khánh, giúp mọi người truy cập và phân tích dữ liệu thị trường tài chính của Việt Nam. Thư viện này cung cấp các công cụ và chức năng để tải xuống dữ liệu về báo cáo tài chính và các chỉ số cơ bản của doanh nghiệp, đồng thời hỗ trợ phân tích kỹ thuật bằng cách cung cấp các biểu đồ nến, chỉ báo kỹ thuật và nhiều tính năng khác.\n",
    "\n",
    "Dưới đây là một số ưu điểm và hạn chế của VNQuant:\n",
    "\n",
    "**Ưu điểm:**\n",
    "\n",
    "- VNQuant cho phép người dùng tải xuống dữ liệu liên quan đến báo cáo tài chính của các doanh nghiệp.\n",
    "\n",
    "- VNQuant cung cấp dữ liệu về VNINDEX với cột volume đã được điều chỉnh, giúp người dùng phân tích thị trường một cách chính xác hơn.\n",
    "\n",
    "- Thích hợp cho việc phân tích kỹ thuật: Thư viện này cung cấp các công cụ và tính năng thích hợp cho việc phân tích kỹ thuật, bao gồm biểu đồ nến, các chỉ báo kỹ thuật, và các tính năng khác giúp người dùng hiểu rõ hơn về xu hướng thị trường và điểm vào/ra khỏi thị trường.\n",
    "\n",
    "**Hạn chế:**\n",
    "\n",
    "- Phụ thuộc vào cơ sở dữ liệu và API của Vndirect: VNQuant phụ thuộc vào cơ sở dữ liệu và API của Vndirect để tải xuống dữ liệu, do đó nếu có bất kỳ thay đổi nào trong cơ sở dữ liệu hoặc gián đoạn dịch vụ từ Vndirect có thể ảnh hưởng đến việc tải dữ liệu của VNQuant.\n",
    "- VNQuant không có tính năng tích hợp thông báo qua các kênh như Telegram và Slack khiến cho việc tự động hóa các quy trình giao dịch bị giảm.\n",
    "- VNQuant không hỗ trợ dữ liệu từ các sàn giao dịch quốc tế khác nhau hoặc các loại sản phẩm khác như tiền điện tử, hàng hóa, chỉ số.\n",
    "- VNQuant bị hạn chế về phạm vi dữ liệu lịch sử giá, không lấy được dữ liệu theo giờ hoặc phút\n",
    "\n",
    "[Link bài viết chi tiết của QM Capital](https://www.qmcapital.vn/bai-viet/kien-thuc/kien-thuc-chung/cach-lay-du-lieu-bang-thu-vien-vnquant)\n",
    "\n",
    "*Trên đây là một số ưu, nhược điểm của thư viện VNQuant mà QM Capital đã tổng hợp, hẹn mọi người trong phương pháp lấy dữ liệu bằng thư viện [Vnstock](https://www.qmcapital.vn/bai-viet/kien-thuc/kien-thuc-chung/cach-lay-du-lieu-bang-thu-vien-vnstock).*"
   ]
  },
  {
   "cell_type": "markdown",
   "metadata": {
    "id": "RsHhKZNMw2uf"
   },
   "source": [
    "#**Download dữ liệu lịch sử giá**"
   ]
  },
  {
   "cell_type": "markdown",
   "metadata": {
    "id": "iRjWIA3WwjvL"
   },
   "source": [
    "#**Phần I. Cài đặt thư viện**"
   ]
  },
  {
   "cell_type": "code",
   "execution_count": null,
   "metadata": {
    "id": "zn5YVSfbnI5V"
   },
   "outputs": [],
   "source": [
    "# Cài đặt thư viện `httpx` để hỗ trợ việc gửi yêu cầu HTTP.\n",
    "%pip install httpx"
   ]
  },
  {
   "cell_type": "code",
   "execution_count": null,
   "metadata": {
    "id": "qVpDQG1iptyT"
   },
   "outputs": [],
   "source": [
    "# Sao chép mã nguồn từ kho `vnquant` trên GitHub về máy của bạn để sử dụng các công cụ và dữ liệu cho phân tích.\n",
    "!git clone https://github.com/phamdinhkhanh/vnquant.git\n",
    "%cd vnquant\n",
    "!pip install ."
   ]
  },
  {
   "cell_type": "code",
   "execution_count": null,
   "metadata": {
    "id": "Lc3EinBLxrNk"
   },
   "outputs": [],
   "source": [
    "# Cài đặt thư viện `vnquant` trực tiếp từ mã nguồn GitHub để sử dụng các tính năng\n",
    "!pip install git+https://github.com/phamdinhkhanh/vnquant.git"
   ]
  },
  {
   "cell_type": "code",
   "execution_count": null,
   "metadata": {
    "id": "1SPIG8Nqxu5e"
   },
   "outputs": [],
   "source": [
    "# Cài đặt thư viện `vnquant` từ PyPI, hỗ trợ phân tích dữ liệu chứng khoán Việt Nam.\n",
    "!pip install vnquant"
   ]
  },
  {
   "cell_type": "code",
   "execution_count": null,
   "metadata": {
    "colab": {
     "base_uri": "https://localhost:8080/"
    },
    "id": "KUsSmtXIT3Ur",
    "outputId": "d3fce4a1-1175-4b72-ff11-c1991496c220"
   },
   "outputs": [],
   "source": [
    "%cd ..\n",
    "!del -rf vnquant"
   ]
  },
  {
   "cell_type": "markdown",
   "metadata": {
    "id": "q9pQ8vDJXR6r"
   },
   "source": [
    "# **Phần II. Download dữ liệu lịch sử giá**"
   ]
  },
  {
   "cell_type": "code",
   "execution_count": null,
   "metadata": {
    "colab": {
     "base_uri": "https://localhost:8080/",
     "height": 238
    },
    "id": "BrU6sZOyT7SH",
    "outputId": "6ac63560-6624-461d-c15d-c78224e011af"
   },
   "outputs": [
    {
     "name": "stderr",
     "output_type": "stream",
     "text": [
      "[2024-12-11 19:34:50] - Assitant - INFO      - download - line 32 - Start downloading data symbols ['MBB'] from VNDIRECT, start: 01/01/2013, end: 01/10/2022!\n"
     ]
    },
    {
     "name": "stdout",
     "output_type": "stream",
     "text": [
      "API_VNDIRECT:https://finfo-api.vndirect.com.vn/v4/stock_prices/\n",
      "{'timestamp': '2024-12-11T12:34:51.848+00:00', 'status': 404, 'error': 'Not Found', 'path': '/v4/stock_prices/'}\n"
     ]
    },
    {
     "ename": "KeyError",
     "evalue": "'data1'",
     "output_type": "error",
     "traceback": [
      "\u001b[1;31m---------------------------------------------------------------------------\u001b[0m",
      "\u001b[1;31mKeyError\u001b[0m                                  Traceback (most recent call last)",
      "Cell \u001b[1;32mIn[1], line 8\u001b[0m\n\u001b[0;32m      4\u001b[0m \u001b[38;5;66;03m# Tải và chuẩn bị dữ liệu chứng khoán cho mã 'MBB' từ `2013-01-01` đến `2022-10-01`, hiển thị 5 hàng đầu tiên của bộ dữ liệu.\u001b[39;00m\n\u001b[0;32m      5\u001b[0m loader \u001b[38;5;241m=\u001b[39m dt\u001b[38;5;241m.\u001b[39mDataLoader(\n\u001b[0;32m      6\u001b[0m     symbols\u001b[38;5;241m=\u001b[39m\u001b[38;5;124m\"\u001b[39m\u001b[38;5;124mMBB\u001b[39m\u001b[38;5;124m\"\u001b[39m, start\u001b[38;5;241m=\u001b[39m\u001b[38;5;124m\"\u001b[39m\u001b[38;5;124m2013-01-01\u001b[39m\u001b[38;5;124m\"\u001b[39m, end\u001b[38;5;241m=\u001b[39m\u001b[38;5;124m\"\u001b[39m\u001b[38;5;124m2022-10-01\u001b[39m\u001b[38;5;124m\"\u001b[39m, minimal\u001b[38;5;241m=\u001b[39m\u001b[38;5;28;01mTrue\u001b[39;00m, data_source\u001b[38;5;241m=\u001b[39m\u001b[38;5;124m\"\u001b[39m\u001b[38;5;124mVND\u001b[39m\u001b[38;5;124m\"\u001b[39m\n\u001b[0;32m      7\u001b[0m )\n\u001b[1;32m----> 8\u001b[0m data \u001b[38;5;241m=\u001b[39m \u001b[43mloader\u001b[49m\u001b[38;5;241;43m.\u001b[39;49m\u001b[43mdownload\u001b[49m\u001b[43m(\u001b[49m\u001b[43m)\u001b[49m\n\u001b[0;32m      9\u001b[0m \u001b[38;5;66;03m# data = data.stack()\u001b[39;00m\n\u001b[0;32m     10\u001b[0m \u001b[38;5;66;03m# data = data.reset_index()\u001b[39;00m\n\u001b[0;32m     11\u001b[0m \u001b[38;5;66;03m# data = data.set_index(\"date\")\u001b[39;00m\n\u001b[0;32m     12\u001b[0m \u001b[38;5;66;03m# data.head()\u001b[39;00m\n",
      "File \u001b[1;32mc:\\Users\\ngovi\\AppData\\Local\\Programs\\Python\\Python313\\Lib\\site-packages\\vnquant\\data\\dataloader.py:56\u001b[0m, in \u001b[0;36mDataLoader.download\u001b[1;34m(self)\u001b[0m\n\u001b[0;32m     54\u001b[0m \u001b[38;5;28;01mif\u001b[39;00m \u001b[38;5;28mstr\u001b[39m\u001b[38;5;241m.\u001b[39mlower(\u001b[38;5;28mself\u001b[39m\u001b[38;5;241m.\u001b[39mdata_source) \u001b[38;5;241m==\u001b[39m \u001b[38;5;124m'\u001b[39m\u001b[38;5;124mvnd\u001b[39m\u001b[38;5;124m'\u001b[39m:\n\u001b[0;32m     55\u001b[0m     loader \u001b[38;5;241m=\u001b[39m DataLoaderVND(\u001b[38;5;28mself\u001b[39m\u001b[38;5;241m.\u001b[39msymbols, \u001b[38;5;28mself\u001b[39m\u001b[38;5;241m.\u001b[39mstart, \u001b[38;5;28mself\u001b[39m\u001b[38;5;241m.\u001b[39mend)\n\u001b[1;32m---> 56\u001b[0m     stock_data \u001b[38;5;241m=\u001b[39m \u001b[43mloader\u001b[49m\u001b[38;5;241;43m.\u001b[39;49m\u001b[43mdownload\u001b[49m\u001b[43m(\u001b[49m\u001b[43m)\u001b[49m\n\u001b[0;32m     57\u001b[0m \u001b[38;5;28;01melse\u001b[39;00m:\n\u001b[0;32m     58\u001b[0m     loader \u001b[38;5;241m=\u001b[39m DataLoaderCAFE(\u001b[38;5;28mself\u001b[39m\u001b[38;5;241m.\u001b[39msymbols, \u001b[38;5;28mself\u001b[39m\u001b[38;5;241m.\u001b[39mstart, \u001b[38;5;28mself\u001b[39m\u001b[38;5;241m.\u001b[39mend)\n",
      "File \u001b[1;32mc:\\Users\\ngovi\\AppData\\Local\\Programs\\Python\\Python313\\Lib\\site-packages\\vnquant\\data\\loader\\vnd.py:34\u001b[0m, in \u001b[0;36mDataLoaderVND.download\u001b[1;34m(self)\u001b[0m\n\u001b[0;32m     32\u001b[0m logger\u001b[38;5;241m.\u001b[39minfo(\u001b[38;5;124m'\u001b[39m\u001b[38;5;124mStart downloading data symbols \u001b[39m\u001b[38;5;132;01m{}\u001b[39;00m\u001b[38;5;124m from VNDIRECT, start: \u001b[39m\u001b[38;5;132;01m{}\u001b[39;00m\u001b[38;5;124m, end: \u001b[39m\u001b[38;5;132;01m{}\u001b[39;00m\u001b[38;5;124m!\u001b[39m\u001b[38;5;124m'\u001b[39m\u001b[38;5;241m.\u001b[39mformat(symbols, \u001b[38;5;28mself\u001b[39m\u001b[38;5;241m.\u001b[39mstart, \u001b[38;5;28mself\u001b[39m\u001b[38;5;241m.\u001b[39mend))\n\u001b[0;32m     33\u001b[0m \u001b[38;5;28;01mfor\u001b[39;00m symbol \u001b[38;5;129;01min\u001b[39;00m symbols:\n\u001b[1;32m---> 34\u001b[0m     stock_datas\u001b[38;5;241m.\u001b[39mappend(\u001b[38;5;28;43mself\u001b[39;49m\u001b[38;5;241;43m.\u001b[39;49m\u001b[43mdownload_one\u001b[49m\u001b[43m(\u001b[49m\u001b[43msymbol\u001b[49m\u001b[43m)\u001b[49m)\n\u001b[0;32m     35\u001b[0m data \u001b[38;5;241m=\u001b[39m pd\u001b[38;5;241m.\u001b[39mconcat(stock_datas, axis\u001b[38;5;241m=\u001b[39m\u001b[38;5;241m1\u001b[39m)\n\u001b[0;32m     36\u001b[0m data \u001b[38;5;241m=\u001b[39m data\u001b[38;5;241m.\u001b[39msort_index(ascending\u001b[38;5;241m=\u001b[39m\u001b[38;5;28;01mFalse\u001b[39;00m)\n",
      "File \u001b[1;32mc:\\Users\\ngovi\\AppData\\Local\\Programs\\Python\\Python313\\Lib\\site-packages\\vnquant\\data\\loader\\vnd.py:55\u001b[0m, in \u001b[0;36mDataLoaderVND.download_one\u001b[1;34m(self, symbol)\u001b[0m\n\u001b[0;32m     53\u001b[0m \u001b[38;5;28mprint\u001b[39m(\u001b[38;5;124mf\u001b[39m\u001b[38;5;124m'\u001b[39m\u001b[38;5;124mAPI_VNDIRECT:\u001b[39m\u001b[38;5;132;01m{\u001b[39;00mAPI_VNDIRECT\u001b[38;5;132;01m}\u001b[39;00m\u001b[38;5;124m'\u001b[39m)\n\u001b[0;32m     54\u001b[0m \u001b[38;5;28mprint\u001b[39m(res\u001b[38;5;241m.\u001b[39mjson())\n\u001b[1;32m---> 55\u001b[0m data \u001b[38;5;241m=\u001b[39m \u001b[43mres\u001b[49m\u001b[38;5;241;43m.\u001b[39;49m\u001b[43mjson\u001b[49m\u001b[43m(\u001b[49m\u001b[43m)\u001b[49m\u001b[43m[\u001b[49m\u001b[38;5;124;43m'\u001b[39;49m\u001b[38;5;124;43mdata1\u001b[39;49m\u001b[38;5;124;43m'\u001b[39;49m\u001b[43m]\u001b[49m\n\u001b[0;32m     56\u001b[0m \u001b[38;5;28;01mif\u001b[39;00m \u001b[38;5;129;01mnot\u001b[39;00m data:\n\u001b[0;32m     57\u001b[0m     logger\u001b[38;5;241m.\u001b[39merror(\u001b[38;5;124mf\u001b[39m\u001b[38;5;124m\"\u001b[39m\u001b[38;5;124mData of the symbol \u001b[39m\u001b[38;5;132;01m{\u001b[39;00msymbol\u001b[38;5;132;01m}\u001b[39;00m\u001b[38;5;124m is not available\u001b[39m\u001b[38;5;124m\"\u001b[39m)\n",
      "\u001b[1;31mKeyError\u001b[0m: 'data1'"
     ]
    }
   ],
   "source": [
    "# Nhập mô-đun dữ liệu từ thư viện `vnquant` để tải và xử lý dữ liệu chứng khoán.\n",
    "import vnquant.data as dt\n",
    "\n",
    "# Tải và chuẩn bị dữ liệu chứng khoán cho mã 'MBB' từ `2013-01-01` đến `2022-10-01`, hiển thị 5 hàng đầu tiên của bộ dữ liệu.\n",
    "loader = dt.DataLoader(\n",
    "    symbols=\"MBB\", start=\"2013-01-01\", end=\"2022-10-01\", minimal=True, data_source=\"VND\"\n",
    ")\n",
    "data = loader.download()\n",
    "data = data.stack()\n",
    "data = data.reset_index()\n",
    "data = data.set_index(\"date\")\n",
    "data.head()"
   ]
  },
  {
   "cell_type": "markdown",
   "metadata": {
    "id": "doRON77xxJCR"
   },
   "source": [
    "# **Phần III. Trực quan hóa dữ liệu**"
   ]
  },
  {
   "cell_type": "code",
   "execution_count": null,
   "metadata": {
    "colab": {
     "base_uri": "https://localhost:8080/",
     "height": 542
    },
    "id": "gN-vi1Py4nKq",
    "outputId": "018a5983-cf3a-4abc-8bc8-a5bb88485da0"
   },
   "outputs": [],
   "source": [
    "# Tạo biểu đồ Candlestick và Volume cho mã 'MBB' sử dụng `plotly`\n",
    "import plotly.subplots as ms\n",
    "import plotly.graph_objects as go\n",
    "\n",
    "fig = ms.make_subplots(rows=2, cols=1, shared_xaxes=True, vertical_spacing=0.02)\n",
    "\n",
    "fig.add_trace(go.Candlestick(x=data.index,\n",
    "                             open=data['open'],\n",
    "                             high=data['high'],\n",
    "                             low=data['low'],\n",
    "                             close=data['close'],\n",
    "                             name='Candlestick'),\n",
    "              row=1, col=1)\n",
    "\n",
    "# Thêm biểu đồ cột thể hiện khối lượng giao dịch\n",
    "fig.add_trace(go.Bar(x=data.index, y=data['volume'], name='Volume'),\n",
    "              row=2, col=1)\n",
    "\n",
    "# Cập nhật bố cục của biểu đồ, bao gồm tiêu đề, tiêu đề trục y, ẩn thanh trượt x, khoảng cách giữa các cột, và đặt phạm vi thời gian cho trục x.\n",
    "fig.update_layout(title='MBB CandleStick Chart',\n",
    "                  yaxis_title='MBB',\n",
    "                  xaxis_rangeslider_visible=False,\n",
    "                  bargap=0,\n",
    "                  xaxis_range=['2018-01-01', '2023-12-10'])\n",
    "\n",
    "# Hiển thị biểu đồ\n",
    "fig.show()\n"
   ]
  },
  {
   "cell_type": "markdown",
   "metadata": {
    "id": "alekkp2Atwyj"
   },
   "source": [
    "# **Download các dữ liệu tài chính khác**"
   ]
  },
  {
   "cell_type": "code",
   "execution_count": null,
   "metadata": {
    "colab": {
     "base_uri": "https://localhost:8080/",
     "height": 206
    },
    "id": "s_-17ZgKuyaq",
    "outputId": "79c36d74-8dd4-49d8-a961-40ee25fb9b9b"
   },
   "outputs": [],
   "source": [
    "# Dữ liệu các chỉ số tài chính cơ bản\n",
    "import vnquant.data as dt\n",
    "loader = dt.FinanceLoader('TCB', '2018-06-02','2022-10-30', minimal=True)\n",
    "data_basic = loader.get_basic_index()\n",
    "data_basic.head()"
   ]
  }
 ],
 "metadata": {
  "colab": {
   "provenance": []
  },
  "kernelspec": {
   "display_name": "Python 3",
   "name": "python3"
  },
  "language_info": {
   "codemirror_mode": {
    "name": "ipython",
    "version": 3
   },
   "file_extension": ".py",
   "mimetype": "text/x-python",
   "name": "python",
   "nbconvert_exporter": "python",
   "pygments_lexer": "ipython3",
   "version": "3.13.1"
  }
 },
 "nbformat": 4,
 "nbformat_minor": 0
}
